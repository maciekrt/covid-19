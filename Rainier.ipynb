{
 "cells": [
  {
   "cell_type": "code",
   "execution_count": 1,
   "metadata": {},
   "outputs": [
    {
     "data": {
      "text/plain": [
       "\u001b[32mimport \u001b[39m\u001b[36m$ivy.$                               \n",
       "\u001b[39m\n",
       "\u001b[32mimport \u001b[39m\u001b[36m$ivy.$                                   \u001b[39m"
      ]
     },
     "execution_count": 1,
     "metadata": {},
     "output_type": "execute_result"
    }
   ],
   "source": [
    "import $ivy.`com.stripe::rainier-core:0.3.2`\n",
    "import $ivy.`com.stripe::rainier-notebook:0.3.3`"
   ]
  },
  {
   "cell_type": "code",
   "execution_count": 2,
   "metadata": {},
   "outputs": [
    {
     "data": {
      "text/plain": [
       "\u001b[32mimport \u001b[39m\u001b[36mcom.stripe.rainier.compute._\n",
       "\u001b[39m\n",
       "\u001b[32mimport \u001b[39m\u001b[36mcom.stripe.rainier.core._\n",
       "\u001b[39m\n",
       "\u001b[32mimport \u001b[39m\u001b[36mcom.stripe.rainier.sampler._\n",
       "\u001b[39m\n",
       "\u001b[32mimport \u001b[39m\u001b[36mcom.stripe.rainier.notebook._\u001b[39m"
      ]
     },
     "execution_count": 2,
     "metadata": {},
     "output_type": "execute_result"
    }
   ],
   "source": [
    "import com.stripe.rainier.compute._\n",
    "import com.stripe.rainier.core._\n",
    "import com.stripe.rainier.sampler._\n",
    "import com.stripe.rainier.notebook._"
   ]
  },
  {
   "cell_type": "code",
   "execution_count": 3,
   "metadata": {},
   "outputs": [],
   "source": [
    "PPrint.register(repl)"
   ]
  },
  {
   "cell_type": "code",
   "execution_count": 4,
   "metadata": {
    "scrolled": true
   },
   "outputs": [
    {
     "data": {
      "text/plain": [
       "\u001b[32mimport \u001b[39m\u001b[36m$ivy.$                                      \n",
       "\u001b[39m\n",
       "\u001b[32mimport \u001b[39m\u001b[36mcom.github.tototoshi.csv._\n",
       "\u001b[39m\n",
       "\u001b[32mimport \u001b[39m\u001b[36mjava.io.File\u001b[39m"
      ]
     },
     "execution_count": 4,
     "metadata": {},
     "output_type": "execute_result"
    }
   ],
   "source": [
    "import $ivy.`com.github.tototoshi::scala-csv:1.3.6`\n",
    "import com.github.tototoshi.csv._\n",
    "import java.io.File"
   ]
  },
  {
   "cell_type": "code",
   "execution_count": 5,
   "metadata": {},
   "outputs": [
    {
     "data": {
      "text/plain": [
       "defined \u001b[32mfunction\u001b[39m \u001b[36mtime\u001b[39m"
      ]
     },
     "execution_count": 5,
     "metadata": {},
     "output_type": "execute_result"
    }
   ],
   "source": [
    "def time[R](block: => R): R = {\n",
    "    val t0 = System.nanoTime()\n",
    "    val result = block    // call-by-name\n",
    "    val t1 = System.nanoTime()\n",
    "    val timeMilis = ((t1 - t0) / 1e6).toInt\n",
    "    println(s\"Elapsed time: $timeMilis ms\")\n",
    "    result\n",
    "}"
   ]
  },
  {
   "cell_type": "code",
   "execution_count": 6,
   "metadata": {},
   "outputs": [
    {
     "data": {
      "text/plain": [
       "\u001b[36mcountriesOnsetData\u001b[39m: \u001b[32mList\u001b[39m[\u001b[32mMap\u001b[39m[\u001b[32mString\u001b[39m, \u001b[32mString\u001b[39m]] = \u001b[33mList\u001b[39m(\n",
       "  \u001b[33mMap\u001b[39m(\u001b[32m\"Country\"\u001b[39m -> \u001b[32m\"Austria\"\u001b[39m, \u001b[32m\"Date\"\u001b[39m -> \u001b[32m\"2019-10-27\"\u001b[39m, \u001b[32m\"Onset\"\u001b[39m -> \u001b[32m\"0.0\"\u001b[39m),\n",
       "  \u001b[33mMap\u001b[39m(\u001b[32m\"Country\"\u001b[39m -> \u001b[32m\"Austria\"\u001b[39m, \u001b[32m\"Date\"\u001b[39m -> \u001b[32m\"2019-10-28\"\u001b[39m, \u001b[32m\"Onset\"\u001b[39m -> \u001b[32m\"0.0\"\u001b[39m),\n",
       "  \u001b[33mMap\u001b[39m(\u001b[32m\"Country\"\u001b[39m -> \u001b[32m\"Austria\"\u001b[39m, \u001b[32m\"Date\"\u001b[39m -> \u001b[32m\"2019-10-29\"\u001b[39m, \u001b[32m\"Onset\"\u001b[39m -> \u001b[32m\"0.0\"\u001b[39m),\n",
       "  \u001b[33mMap\u001b[39m(\u001b[32m\"Country\"\u001b[39m -> \u001b[32m\"Austria\"\u001b[39m, \u001b[32m\"Date\"\u001b[39m -> \u001b[32m\"2019-10-30\"\u001b[39m, \u001b[32m\"Onset\"\u001b[39m -> \u001b[32m\"0.0\"\u001b[39m),\n",
       "  \u001b[33mMap\u001b[39m(\u001b[32m\"Country\"\u001b[39m -> \u001b[32m\"Austria\"\u001b[39m, \u001b[32m\"Date\"\u001b[39m -> \u001b[32m\"2019-10-31\"\u001b[39m, \u001b[32m\"Onset\"\u001b[39m -> \u001b[32m\"0.0\"\u001b[39m),\n",
       "  \u001b[33mMap\u001b[39m(\u001b[32m\"Country\"\u001b[39m -> \u001b[32m\"Austria\"\u001b[39m, \u001b[32m\"Date\"\u001b[39m -> \u001b[32m\"2019-11-01\"\u001b[39m, \u001b[32m\"Onset\"\u001b[39m -> \u001b[32m\"0.0\"\u001b[39m),\n",
       "  \u001b[33mMap\u001b[39m(\u001b[32m\"Country\"\u001b[39m -> \u001b[32m\"Austria\"\u001b[39m, \u001b[32m\"Date\"\u001b[39m -> \u001b[32m\"2019-11-02\"\u001b[39m, \u001b[32m\"Onset\"\u001b[39m -> \u001b[32m\"0.0\"\u001b[39m),\n",
       "  \u001b[33mMap\u001b[39m(\u001b[32m\"Country\"\u001b[39m -> \u001b[32m\"Austria\"\u001b[39m, \u001b[32m\"Date\"\u001b[39m -> \u001b[32m\"2019-11-03\"\u001b[39m, \u001b[32m\"Onset\"\u001b[39m -> \u001b[32m\"0.0\"\u001b[39m),\n",
       "  \u001b[33mMap\u001b[39m(\u001b[32m\"Country\"\u001b[39m -> \u001b[32m\"Austria\"\u001b[39m, \u001b[32m\"Date\"\u001b[39m -> \u001b[32m\"2019-11-04\"\u001b[39m, \u001b[32m\"Onset\"\u001b[39m -> \u001b[32m\"0.0\"\u001b[39m),\n",
       "  \u001b[33mMap\u001b[39m(\u001b[32m\"Country\"\u001b[39m -> \u001b[32m\"Austria\"\u001b[39m, \u001b[32m\"Date\"\u001b[39m -> \u001b[32m\"2019-11-05\"\u001b[39m, \u001b[32m\"Onset\"\u001b[39m -> \u001b[32m\"0.0\"\u001b[39m),\n",
       "  \u001b[33mMap\u001b[39m(\u001b[32m\"Country\"\u001b[39m -> \u001b[32m\"Austria\"\u001b[39m, \u001b[32m\"Date\"\u001b[39m -> \u001b[32m\"2019-11-06\"\u001b[39m, \u001b[32m\"Onset\"\u001b[39m -> \u001b[32m\"0.0\"\u001b[39m),\n",
       "  \u001b[33mMap\u001b[39m(\u001b[32m\"Country\"\u001b[39m -> \u001b[32m\"Austria\"\u001b[39m, \u001b[32m\"Date\"\u001b[39m -> \u001b[32m\"2019-11-07\"\u001b[39m, \u001b[32m\"Onset\"\u001b[39m -> \u001b[32m\"0.0\"\u001b[39m),\n",
       "  \u001b[33mMap\u001b[39m(\u001b[32m\"Country\"\u001b[39m -> \u001b[32m\"Austria\"\u001b[39m, \u001b[32m\"Date\"\u001b[39m -> \u001b[32m\"2019-11-08\"\u001b[39m, \u001b[32m\"Onset\"\u001b[39m -> \u001b[32m\"0.0\"\u001b[39m),\n",
       "  \u001b[33mMap\u001b[39m(\u001b[32m\"Country\"\u001b[39m -> \u001b[32m\"Austria\"\u001b[39m, \u001b[32m\"Date\"\u001b[39m -> \u001b[32m\"2019-11-09\"\u001b[39m, \u001b[32m\"Onset\"\u001b[39m -> \u001b[32m\"0.0\"\u001b[39m),\n",
       "  \u001b[33mMap\u001b[39m(\u001b[32m\"Country\"\u001b[39m -> \u001b[32m\"Austria\"\u001b[39m, \u001b[32m\"Date\"\u001b[39m -> \u001b[32m\"2019-11-10\"\u001b[39m, \u001b[32m\"Onset\"\u001b[39m -> \u001b[32m\"0.0\"\u001b[39m),\n",
       "  \u001b[33mMap\u001b[39m(\u001b[32m\"Country\"\u001b[39m -> \u001b[32m\"Austria\"\u001b[39m, \u001b[32m\"Date\"\u001b[39m -> \u001b[32m\"2019-11-11\"\u001b[39m, \u001b[32m\"Onset\"\u001b[39m -> \u001b[32m\"0.0\"\u001b[39m),\n",
       "  \u001b[33mMap\u001b[39m(\u001b[32m\"Country\"\u001b[39m -> \u001b[32m\"Austria\"\u001b[39m, \u001b[32m\"Date\"\u001b[39m -> \u001b[32m\"2019-11-12\"\u001b[39m, \u001b[32m\"Onset\"\u001b[39m -> \u001b[32m\"0.0\"\u001b[39m),\n",
       "  \u001b[33mMap\u001b[39m(\u001b[32m\"Country\"\u001b[39m -> \u001b[32m\"Austria\"\u001b[39m, \u001b[32m\"Date\"\u001b[39m -> \u001b[32m\"2019-11-13\"\u001b[39m, \u001b[32m\"Onset\"\u001b[39m -> \u001b[32m\"0.0\"\u001b[39m),\n",
       "  \u001b[33mMap\u001b[39m(\u001b[32m\"Country\"\u001b[39m -> \u001b[32m\"Austria\"\u001b[39m, \u001b[32m\"Date\"\u001b[39m -> \u001b[32m\"2019-11-14\"\u001b[39m, \u001b[32m\"Onset\"\u001b[39m -> \u001b[32m\"0.0\"\u001b[39m),\n",
       "  \u001b[33mMap\u001b[39m(\u001b[32m\"Country\"\u001b[39m -> \u001b[32m\"Austria\"\u001b[39m, \u001b[32m\"Date\"\u001b[39m -> \u001b[32m\"2019-11-15\"\u001b[39m, \u001b[32m\"Onset\"\u001b[39m -> \u001b[32m\"0.0\"\u001b[39m),\n",
       "  \u001b[33mMap\u001b[39m(\u001b[32m\"Country\"\u001b[39m -> \u001b[32m\"Austria\"\u001b[39m, \u001b[32m\"Date\"\u001b[39m -> \u001b[32m\"2019-11-16\"\u001b[39m, \u001b[32m\"Onset\"\u001b[39m -> \u001b[32m\"0.0\"\u001b[39m),\n",
       "  \u001b[33mMap\u001b[39m(\u001b[32m\"Country\"\u001b[39m -> \u001b[32m\"Austria\"\u001b[39m, \u001b[32m\"Date\"\u001b[39m -> \u001b[32m\"2019-11-17\"\u001b[39m, \u001b[32m\"Onset\"\u001b[39m -> \u001b[32m\"0.0\"\u001b[39m),\n",
       "  \u001b[33mMap\u001b[39m(\u001b[32m\"Country\"\u001b[39m -> \u001b[32m\"Austria\"\u001b[39m, \u001b[32m\"Date\"\u001b[39m -> \u001b[32m\"2019-11-18\"\u001b[39m, \u001b[32m\"Onset\"\u001b[39m -> \u001b[32m\"0.0\"\u001b[39m),\n",
       "  \u001b[33mMap\u001b[39m(\u001b[32m\"Country\"\u001b[39m -> \u001b[32m\"Austria\"\u001b[39m, \u001b[32m\"Date\"\u001b[39m -> \u001b[32m\"2019-11-19\"\u001b[39m, \u001b[32m\"Onset\"\u001b[39m -> \u001b[32m\"0.0\"\u001b[39m),\n",
       "  \u001b[33mMap\u001b[39m(\u001b[32m\"Country\"\u001b[39m -> \u001b[32m\"Austria\"\u001b[39m, \u001b[32m\"Date\"\u001b[39m -> \u001b[32m\"2019-11-20\"\u001b[39m, \u001b[32m\"Onset\"\u001b[39m -> \u001b[32m\"0.0\"\u001b[39m),\n",
       "  \u001b[33mMap\u001b[39m(\u001b[32m\"Country\"\u001b[39m -> \u001b[32m\"Austria\"\u001b[39m, \u001b[32m\"Date\"\u001b[39m -> \u001b[32m\"2019-11-21\"\u001b[39m, \u001b[32m\"Onset\"\u001b[39m -> \u001b[32m\"0.0\"\u001b[39m),\n",
       "  \u001b[33mMap\u001b[39m(\u001b[32m\"Country\"\u001b[39m -> \u001b[32m\"Austria\"\u001b[39m, \u001b[32m\"Date\"\u001b[39m -> \u001b[32m\"2019-11-22\"\u001b[39m, \u001b[32m\"Onset\"\u001b[39m -> \u001b[32m\"0.0\"\u001b[39m),\n",
       "  \u001b[33mMap\u001b[39m(\u001b[32m\"Country\"\u001b[39m -> \u001b[32m\"Austria\"\u001b[39m, \u001b[32m\"Date\"\u001b[39m -> \u001b[32m\"2019-11-23\"\u001b[39m, \u001b[32m\"Onset\"\u001b[39m -> \u001b[32m\"0.0\"\u001b[39m),\n",
       "  \u001b[33mMap\u001b[39m(\u001b[32m\"Country\"\u001b[39m -> \u001b[32m\"Austria\"\u001b[39m, \u001b[32m\"Date\"\u001b[39m -> \u001b[32m\"2019-11-24\"\u001b[39m, \u001b[32m\"Onset\"\u001b[39m -> \u001b[32m\"0.0\"\u001b[39m),\n",
       "  \u001b[33mMap\u001b[39m(\u001b[32m\"Country\"\u001b[39m -> \u001b[32m\"Austria\"\u001b[39m, \u001b[32m\"Date\"\u001b[39m -> \u001b[32m\"2019-11-25\"\u001b[39m, \u001b[32m\"Onset\"\u001b[39m -> \u001b[32m\"0.0\"\u001b[39m),\n",
       "  \u001b[33mMap\u001b[39m(\u001b[32m\"Country\"\u001b[39m -> \u001b[32m\"Austria\"\u001b[39m, \u001b[32m\"Date\"\u001b[39m -> \u001b[32m\"2019-11-26\"\u001b[39m, \u001b[32m\"Onset\"\u001b[39m -> \u001b[32m\"0.0\"\u001b[39m),\n",
       "  \u001b[33mMap\u001b[39m(\u001b[32m\"Country\"\u001b[39m -> \u001b[32m\"Austria\"\u001b[39m, \u001b[32m\"Date\"\u001b[39m -> \u001b[32m\"2019-11-27\"\u001b[39m, \u001b[32m\"Onset\"\u001b[39m -> \u001b[32m\"0.0\"\u001b[39m),\n",
       "  \u001b[33mMap\u001b[39m(\u001b[32m\"Country\"\u001b[39m -> \u001b[32m\"Austria\"\u001b[39m, \u001b[32m\"Date\"\u001b[39m -> \u001b[32m\"2019-11-28\"\u001b[39m, \u001b[32m\"Onset\"\u001b[39m -> \u001b[32m\"0.0\"\u001b[39m),\n",
       "  \u001b[33mMap\u001b[39m(\u001b[32m\"Country\"\u001b[39m -> \u001b[32m\"Austria\"\u001b[39m, \u001b[32m\"Date\"\u001b[39m -> \u001b[32m\"2019-11-29\"\u001b[39m, \u001b[32m\"Onset\"\u001b[39m -> \u001b[32m\"0.0\"\u001b[39m),\n",
       "  \u001b[33mMap\u001b[39m(\u001b[32m\"Country\"\u001b[39m -> \u001b[32m\"Austria\"\u001b[39m, \u001b[32m\"Date\"\u001b[39m -> \u001b[32m\"2019-11-30\"\u001b[39m, \u001b[32m\"Onset\"\u001b[39m -> \u001b[32m\"0.0\"\u001b[39m),\n",
       "  \u001b[33mMap\u001b[39m(\u001b[32m\"Country\"\u001b[39m -> \u001b[32m\"Austria\"\u001b[39m, \u001b[32m\"Date\"\u001b[39m -> \u001b[32m\"2019-12-01\"\u001b[39m, \u001b[32m\"Onset\"\u001b[39m -> \u001b[32m\"0.0\"\u001b[39m),\n",
       "  \u001b[33mMap\u001b[39m(\u001b[32m\"Country\"\u001b[39m -> \u001b[32m\"Austria\"\u001b[39m, \u001b[32m\"Date\"\u001b[39m -> \u001b[32m\"2019-12-02\"\u001b[39m, \u001b[32m\"Onset\"\u001b[39m -> \u001b[32m\"0.0\"\u001b[39m),\n",
       "  \u001b[33mMap\u001b[39m(\u001b[32m\"Country\"\u001b[39m -> \u001b[32m\"Austria\"\u001b[39m, \u001b[32m\"Date\"\u001b[39m -> \u001b[32m\"2019-12-03\"\u001b[39m, \u001b[32m\"Onset\"\u001b[39m -> \u001b[32m\"0.0\"\u001b[39m),\n",
       "..."
      ]
     },
     "execution_count": 6,
     "metadata": {},
     "output_type": "execute_result"
    }
   ],
   "source": [
    "val countriesOnsetData = {\n",
    "    val csvReader = CSVReader.open(new File(\"data/onset.csv\"))\n",
    "    val xs = csvReader.allWithHeaders()\n",
    "    csvReader.close()\n",
    "    xs\n",
    "}"
   ]
  },
  {
   "cell_type": "code",
   "execution_count": 8,
   "metadata": {},
   "outputs": [
    {
     "data": {
      "text/plain": [
       "\u001b[36mpdelayData\u001b[39m: \u001b[32mList\u001b[39m[\u001b[32mMap\u001b[39m[\u001b[32mString\u001b[39m, \u001b[32mString\u001b[39m]] = \u001b[33mList\u001b[39m(\n",
       "  \u001b[33mMap\u001b[39m(\u001b[32m\"index\"\u001b[39m -> \u001b[32m\"0\"\u001b[39m, \u001b[32m\"pdelay\"\u001b[39m -> \u001b[32m\"0.006547041707080504\"\u001b[39m),\n",
       "  \u001b[33mMap\u001b[39m(\u001b[32m\"index\"\u001b[39m -> \u001b[32m\"1\"\u001b[39m, \u001b[32m\"pdelay\"\u001b[39m -> \u001b[32m\"0.04194956353055286\"\u001b[39m),\n",
       "  \u001b[33mMap\u001b[39m(\u001b[32m\"index\"\u001b[39m -> \u001b[32m\"2\"\u001b[39m, \u001b[32m\"pdelay\"\u001b[39m -> \u001b[32m\"0.05771096023278371\"\u001b[39m),\n",
       "  \u001b[33mMap\u001b[39m(\u001b[32m\"index\"\u001b[39m -> \u001b[32m\"3\"\u001b[39m, \u001b[32m\"pdelay\"\u001b[39m -> \u001b[32m\"0.06983511154219205\"\u001b[39m),\n",
       "  \u001b[33mMap\u001b[39m(\u001b[32m\"index\"\u001b[39m -> \u001b[32m\"4\"\u001b[39m, \u001b[32m\"pdelay\"\u001b[39m -> \u001b[32m\"0.07153249272550921\"\u001b[39m),\n",
       "  \u001b[33mMap\u001b[39m(\u001b[32m\"index\"\u001b[39m -> \u001b[32m\"5\"\u001b[39m, \u001b[32m\"pdelay\"\u001b[39m -> \u001b[32m\"0.08583899127061105\"\u001b[39m),\n",
       "  \u001b[33mMap\u001b[39m(\u001b[32m\"index\"\u001b[39m -> \u001b[32m\"6\"\u001b[39m, \u001b[32m\"pdelay\"\u001b[39m -> \u001b[32m\"0.07953443258971872\"\u001b[39m),\n",
       "  \u001b[33mMap\u001b[39m(\u001b[32m\"index\"\u001b[39m -> \u001b[32m\"7\"\u001b[39m, \u001b[32m\"pdelay\"\u001b[39m -> \u001b[32m\"0.07516973811833172\"\u001b[39m),\n",
       "  \u001b[33mMap\u001b[39m(\u001b[32m\"index\"\u001b[39m -> \u001b[32m\"8\"\u001b[39m, \u001b[32m\"pdelay\"\u001b[39m -> \u001b[32m\"0.07710960232783705\"\u001b[39m),\n",
       "  \u001b[33mMap\u001b[39m(\u001b[32m\"index\"\u001b[39m -> \u001b[32m\"9\"\u001b[39m, \u001b[32m\"pdelay\"\u001b[39m -> \u001b[32m\"0.07904946653734239\"\u001b[39m),\n",
       "  \u001b[33mMap\u001b[39m(\u001b[32m\"index\"\u001b[39m -> \u001b[32m\"10\"\u001b[39m, \u001b[32m\"pdelay\"\u001b[39m -> \u001b[32m\"0.06304558680892337\"\u001b[39m),\n",
       "  \u001b[33mMap\u001b[39m(\u001b[32m\"index\"\u001b[39m -> \u001b[32m\"11\"\u001b[39m, \u001b[32m\"pdelay\"\u001b[39m -> \u001b[32m\"0.0511639185257032\"\u001b[39m),\n",
       "  \u001b[33mMap\u001b[39m(\u001b[32m\"index\"\u001b[39m -> \u001b[32m\"12\"\u001b[39m, \u001b[32m\"pdelay\"\u001b[39m -> \u001b[32m\"0.04485935984481086\"\u001b[39m),\n",
       "  \u001b[33mMap\u001b[39m(\u001b[32m\"index\"\u001b[39m -> \u001b[32m\"13\"\u001b[39m, \u001b[32m\"pdelay\"\u001b[39m -> \u001b[32m\"0.038554801163918524\"\u001b[39m),\n",
       "  \u001b[33mMap\u001b[39m(\u001b[32m\"index\"\u001b[39m -> \u001b[32m\"14\"\u001b[39m, \u001b[32m\"pdelay\"\u001b[39m -> \u001b[32m\"0.028855480116391854\"\u001b[39m),\n",
       "  \u001b[33mMap\u001b[39m(\u001b[32m\"index\"\u001b[39m -> \u001b[32m\"15\"\u001b[39m, \u001b[32m\"pdelay\"\u001b[39m -> \u001b[32m\"0.026430649854510185\"\u001b[39m),\n",
       "  \u001b[33mMap\u001b[39m(\u001b[32m\"index\"\u001b[39m -> \u001b[32m\"16\"\u001b[39m, \u001b[32m\"pdelay\"\u001b[39m -> \u001b[32m\"0.01915615906886518\"\u001b[39m),\n",
       "  \u001b[33mMap\u001b[39m(\u001b[32m\"index\"\u001b[39m -> \u001b[32m\"17\"\u001b[39m, \u001b[32m\"pdelay\"\u001b[39m -> \u001b[32m\"0.02061105722599418\"\u001b[39m),\n",
       "  \u001b[33mMap\u001b[39m(\u001b[32m\"index\"\u001b[39m -> \u001b[32m\"18\"\u001b[39m, \u001b[32m\"pdelay\"\u001b[39m -> \u001b[32m\"0.011881668283220174\"\u001b[39m),\n",
       "  \u001b[33mMap\u001b[39m(\u001b[32m\"index\"\u001b[39m -> \u001b[32m\"19\"\u001b[39m, \u001b[32m\"pdelay\"\u001b[39m -> \u001b[32m\"0.009456838021338506\"\u001b[39m),\n",
       "  \u001b[33mMap\u001b[39m(\u001b[32m\"index\"\u001b[39m -> \u001b[32m\"20\"\u001b[39m, \u001b[32m\"pdelay\"\u001b[39m -> \u001b[32m\"0.009699321047526674\"\u001b[39m),\n",
       "  \u001b[33mMap\u001b[39m(\u001b[32m\"index\"\u001b[39m -> \u001b[32m\"21\"\u001b[39m, \u001b[32m\"pdelay\"\u001b[39m -> \u001b[32m\"0.006547041707080504\"\u001b[39m),\n",
       "  \u001b[33mMap\u001b[39m(\u001b[32m\"index\"\u001b[39m -> \u001b[32m\"22\"\u001b[39m, \u001b[32m\"pdelay\"\u001b[39m -> \u001b[32m\"0.004122211445198836\"\u001b[39m),\n",
       "  \u001b[33mMap\u001b[39m(\u001b[32m\"index\"\u001b[39m -> \u001b[32m\"23\"\u001b[39m, \u001b[32m\"pdelay\"\u001b[39m -> \u001b[32m\"0.0036372453928225023\"\u001b[39m),\n",
       "  \u001b[33mMap\u001b[39m(\u001b[32m\"index\"\u001b[39m -> \u001b[32m\"24\"\u001b[39m, \u001b[32m\"pdelay\"\u001b[39m -> \u001b[32m\"0.002909796314258002\"\u001b[39m),\n",
       "  \u001b[33mMap\u001b[39m(\u001b[32m\"index\"\u001b[39m -> \u001b[32m\"25\"\u001b[39m, \u001b[32m\"pdelay\"\u001b[39m -> \u001b[32m\"0.0036372453928225023\"\u001b[39m),\n",
       "  \u001b[33mMap\u001b[39m(\u001b[32m\"index\"\u001b[39m -> \u001b[32m\"26\"\u001b[39m, \u001b[32m\"pdelay\"\u001b[39m -> \u001b[32m\"0.0019398642095053346\"\u001b[39m),\n",
       "  \u001b[33mMap\u001b[39m(\u001b[32m\"index\"\u001b[39m -> \u001b[32m\"27\"\u001b[39m, \u001b[32m\"pdelay\"\u001b[39m -> \u001b[32m\"0.00048496605237633366\"\u001b[39m),\n",
       "  \u001b[33mMap\u001b[39m(\u001b[32m\"index\"\u001b[39m -> \u001b[32m\"28\"\u001b[39m, \u001b[32m\"pdelay\"\u001b[39m -> \u001b[32m\"0.00048496605237633366\"\u001b[39m),\n",
       "  \u001b[33mMap\u001b[39m(\u001b[32m\"index\"\u001b[39m -> \u001b[32m\"29\"\u001b[39m, \u001b[32m\"pdelay\"\u001b[39m -> \u001b[32m\"0.0\"\u001b[39m),\n",
       "  \u001b[33mMap\u001b[39m(\u001b[32m\"index\"\u001b[39m -> \u001b[32m\"30\"\u001b[39m, \u001b[32m\"pdelay\"\u001b[39m -> \u001b[32m\"0.0009699321047526673\"\u001b[39m),\n",
       "  \u001b[33mMap\u001b[39m(\u001b[32m\"index\"\u001b[39m -> \u001b[32m\"31\"\u001b[39m, \u001b[32m\"pdelay\"\u001b[39m -> \u001b[32m\"0.00024248302618816683\"\u001b[39m),\n",
       "  \u001b[33mMap\u001b[39m(\u001b[32m\"index\"\u001b[39m -> \u001b[32m\"32\"\u001b[39m, \u001b[32m\"pdelay\"\u001b[39m -> \u001b[32m\"0.00048496605237633366\"\u001b[39m),\n",
       "  \u001b[33mMap\u001b[39m(\u001b[32m\"index\"\u001b[39m -> \u001b[32m\"33\"\u001b[39m, \u001b[32m\"pdelay\"\u001b[39m -> \u001b[32m\"0.0007274490785645005\"\u001b[39m),\n",
       "  \u001b[33mMap\u001b[39m(\u001b[32m\"index\"\u001b[39m -> \u001b[32m\"34\"\u001b[39m, \u001b[32m\"pdelay\"\u001b[39m -> \u001b[32m\"0.001454898157129001\"\u001b[39m),\n",
       "  \u001b[33mMap\u001b[39m(\u001b[32m\"index\"\u001b[39m -> \u001b[32m\"35\"\u001b[39m, \u001b[32m\"pdelay\"\u001b[39m -> \u001b[32m\"0.00024248302618816683\"\u001b[39m),\n",
       "  \u001b[33mMap\u001b[39m(\u001b[32m\"index\"\u001b[39m -> \u001b[32m\"36\"\u001b[39m, \u001b[32m\"pdelay\"\u001b[39m -> \u001b[32m\"0.00048496605237633366\"\u001b[39m),\n",
       "  \u001b[33mMap\u001b[39m(\u001b[32m\"index\"\u001b[39m -> \u001b[32m\"37\"\u001b[39m, \u001b[32m\"pdelay\"\u001b[39m -> \u001b[32m\"0.0007274490785645005\"\u001b[39m),\n",
       "..."
      ]
     },
     "execution_count": 8,
     "metadata": {},
     "output_type": "execute_result"
    }
   ],
   "source": [
    "val pdelayData = {\n",
    "    val csvReader = CSVReader.open(new File(\"data/pdelay.csv\"))\n",
    "    val xs = csvReader.allWithHeaders()\n",
    "    csvReader.close()\n",
    "    xs\n",
    "}"
   ]
  },
  {
   "cell_type": "code",
   "execution_count": 15,
   "metadata": {},
   "outputs": [
    {
     "data": {
      "text/plain": [
       "\u001b[36mpdelay\u001b[39m: \u001b[32mList\u001b[39m[\u001b[32mDouble\u001b[39m] = \u001b[33mList\u001b[39m(\n",
       "  \u001b[32m0.006547041707080504\u001b[39m,\n",
       "  \u001b[32m0.04194956353055286\u001b[39m,\n",
       "  \u001b[32m0.05771096023278371\u001b[39m,\n",
       "  \u001b[32m0.06983511154219205\u001b[39m,\n",
       "  \u001b[32m0.07153249272550921\u001b[39m,\n",
       "  \u001b[32m0.08583899127061105\u001b[39m,\n",
       "  \u001b[32m0.07953443258971872\u001b[39m,\n",
       "  \u001b[32m0.07516973811833172\u001b[39m,\n",
       "  \u001b[32m0.07710960232783705\u001b[39m,\n",
       "  \u001b[32m0.07904946653734239\u001b[39m,\n",
       "  \u001b[32m0.06304558680892337\u001b[39m,\n",
       "  \u001b[32m0.0511639185257032\u001b[39m,\n",
       "  \u001b[32m0.04485935984481086\u001b[39m,\n",
       "  \u001b[32m0.038554801163918524\u001b[39m,\n",
       "  \u001b[32m0.028855480116391854\u001b[39m,\n",
       "  \u001b[32m0.026430649854510185\u001b[39m,\n",
       "  \u001b[32m0.01915615906886518\u001b[39m,\n",
       "  \u001b[32m0.02061105722599418\u001b[39m,\n",
       "  \u001b[32m0.011881668283220174\u001b[39m,\n",
       "  \u001b[32m0.009456838021338506\u001b[39m,\n",
       "  \u001b[32m0.009699321047526674\u001b[39m,\n",
       "  \u001b[32m0.006547041707080504\u001b[39m,\n",
       "  \u001b[32m0.004122211445198836\u001b[39m,\n",
       "  \u001b[32m0.0036372453928225023\u001b[39m,\n",
       "  \u001b[32m0.002909796314258002\u001b[39m,\n",
       "  \u001b[32m0.0036372453928225023\u001b[39m,\n",
       "  \u001b[32m0.0019398642095053346\u001b[39m,\n",
       "  \u001b[32m4.8496605237633366E-4\u001b[39m,\n",
       "  \u001b[32m4.8496605237633366E-4\u001b[39m,\n",
       "  \u001b[32m0.0\u001b[39m,\n",
       "  \u001b[32m9.699321047526673E-4\u001b[39m,\n",
       "  \u001b[32m2.4248302618816683E-4\u001b[39m,\n",
       "  \u001b[32m4.8496605237633366E-4\u001b[39m,\n",
       "  \u001b[32m7.274490785645005E-4\u001b[39m,\n",
       "  \u001b[32m0.001454898157129001\u001b[39m,\n",
       "  \u001b[32m2.4248302618816683E-4\u001b[39m,\n",
       "  \u001b[32m4.8496605237633366E-4\u001b[39m,\n",
       "  \u001b[32m7.274490785645005E-4\u001b[39m,\n",
       "..."
      ]
     },
     "execution_count": 15,
     "metadata": {},
     "output_type": "execute_result"
    }
   ],
   "source": [
    "val pdelay = pdelayData.collect { case m => m(\"pdelay\").toDouble }"
   ]
  },
  {
   "cell_type": "markdown",
   "metadata": {},
   "source": [
    "Preparation of the other model"
   ]
  },
  {
   "cell_type": "code",
   "execution_count": 9,
   "metadata": {},
   "outputs": [
    {
     "data": {
      "text/plain": [
       "\u001b[32mimport \u001b[39m\u001b[36mscala.collection.mutable.ListBuffer\n",
       "\n",
       "\u001b[39m\n",
       "defined \u001b[32mfunction\u001b[39m \u001b[36mprepareDataForModelOnset\u001b[39m"
      ]
     },
     "execution_count": 9,
     "metadata": {},
     "output_type": "execute_result"
    }
   ],
   "source": [
    "import scala.collection.mutable.ListBuffer\n",
    "\n",
    "def prepareDataForModelOnset(xs: List[Long], pd: List[Double], window: Int): List[(Long,Double)] = {\n",
    "    val cpdBuffer = new ListBuffer[Double]()\n",
    "    cpdBuffer ++= pd.scanLeft(0.0)(_+_).drop(1)\n",
    "    for(i <- 1 to xs.size - pd.size) {\n",
    "        cpdBuffer += 1.0\n",
    "    }\n",
    "    val temp = xs.zip(cpdBuffer.toList.reverse)\n",
    "    temp.drop(temp.size - window)\n",
    "}"
   ]
  },
  {
   "cell_type": "code",
   "execution_count": 10,
   "metadata": {},
   "outputs": [
    {
     "data": {
      "text/plain": [
       "\u001b[36msamplerConfig\u001b[39m: \u001b[32mDefaultConfig\u001b[39m{def massMatrixTuner(): com.stripe.rainier.sampler.IdentityMassMatrixTuner;def sampler(): com.stripe.rainier.sampler.HMCSampler} = ammonite.$sess.cmd9$Helper$$anon$1@16cf331e"
      ]
     },
     "execution_count": 10,
     "metadata": {},
     "output_type": "execute_result"
    }
   ],
   "source": [
    "val samplerConfig = new DefaultConfig {\n",
    "    override def massMatrixTuner() = new IdentityMassMatrixTuner\n",
    "    override def sampler() = new HMCSampler(100)\n",
    "}"
   ]
  },
  {
   "cell_type": "markdown",
   "metadata": {},
   "source": [
    "Define a function that we'll use to retry the call to Rainier's `predict` that fails occassionally. Fortunately, the failure can be easily detected and 1-2 retries solves the issue."
   ]
  },
  {
   "cell_type": "code",
   "execution_count": 11,
   "metadata": {},
   "outputs": [
    {
     "data": {
      "text/plain": [
       "defined \u001b[32mfunction\u001b[39m \u001b[36mretry\u001b[39m"
      ]
     },
     "execution_count": 11,
     "metadata": {},
     "output_type": "execute_result"
    }
   ],
   "source": [
    "def retry[T](maxAttempts: Int, isSuccessful: T => Boolean)(f: => T): T = {\n",
    "    var i = 0\n",
    "    \n",
    "    do {\n",
    "        val res = f\n",
    "        i = i + 1\n",
    "        if (isSuccessful(res))\n",
    "            return res\n",
    "        println(s\"WARN: Attempt[$i] failed. Retrying...\")\n",
    "    } while (i < maxAttempts)\n",
    "    sys.error(\"Exceeded maximum number of retries\")\n",
    "}"
   ]
  },
  {
   "cell_type": "code",
   "execution_count": 12,
   "metadata": {},
   "outputs": [
    {
     "data": {
      "text/plain": [
       "defined \u001b[32mfunction\u001b[39m \u001b[36mpredictRtOnset\u001b[39m"
      ]
     },
     "execution_count": 12,
     "metadata": {},
     "output_type": "execute_result"
    }
   ],
   "source": [
    "def predictRtOnset(onsetNumbers: List[Long], pdelay: List[Double], window: Int): (Vec[Real], List[Seq[Double]]) = {\n",
    "    \n",
    "    val data = prepareDataForModelOnset(onsetNumbers, pdelay, window)\n",
    "    \n",
    "    val (model, rts) = {\n",
    "        val (onset, cum_pdelay) = data.unzip\n",
    "        val serialInterval = Gamma(6,1/1.5).latent\n",
    "        val sigma = Normal(0,0.03).latent.abs\n",
    "        val Theta0 = Normal(0.1,0.1).latent\n",
    "        val diffs = Laplace(0,sigma).latentVec(data.size) // Maybe normal would be better\n",
    "        val ThetaT = Vec.from(diffs.toList.scanLeft(Theta0)(_ + _))\n",
    "        /*\n",
    "        If we remove multiplication by a rv serialInterval the crash disappears\n",
    "        */\n",
    "        val Rts = ThetaT.map { m =>  \n",
    "            m*serialInterval + 1\n",
    "        }\n",
    "        val inferredYesterday = data.take(data.size-1).map { case (o_t, cp_t) => \n",
    "            o_t/cp_t \n",
    "        }.zipWithIndex\n",
    "        val expectedToday = Vec.from(inferredYesterday.zip(cum_pdelay.drop(1))).map { case ((infYest, i), cpd) =>\n",
    "            val lambda = infYest * cpd * (ThetaT(i).exp)\n",
    "            Poisson(lambda)\n",
    "        }\n",
    "        (Model.observe(onset.drop(1), expectedToday), Rts)\n",
    "    }\n",
    "    \n",
    "    def detectFailedRun(trace: Trace): Boolean =\n",
    "        // from: https://twitter.com/avibryant/status/1253049509128499201\n",
    "        trace.diagnostics.map(_.rHat).max < 1.1\n",
    "    \n",
    "    val trace = retry(maxAttempts = 3, isSuccessful = detectFailedRun) {\n",
    "        println(\"Retrying..\")\n",
    "        model.sample(samplerConfig, 2)\n",
    "    }\n",
    "    println(\"Sampled..\")\n",
    "    val tracePredict = trace.predict(rts)\n",
    "    println(\"tracePredict prepared..\")\n",
    "    return rts -> tracePredict\n",
    "}"
   ]
  },
  {
   "cell_type": "code",
   "execution_count": 13,
   "metadata": {},
   "outputs": [
    {
     "data": {
      "text/plain": [
       "defined \u001b[32mclass\u001b[39m \u001b[36mRtsDistributionStats\u001b[39m\n",
       "defined \u001b[32mfunction\u001b[39m \u001b[36mdistributionStats\u001b[39m"
      ]
     },
     "execution_count": 13,
     "metadata": {},
     "output_type": "execute_result"
    }
   ],
   "source": [
    "case class RtsDistributionStats(means: Seq[(Int, Double)], hdpis: Seq[(Int, (Double, Double))])\n",
    "def distributionStats(rts: Vec[Real], rtForecasts: List[Seq[Double]]): RtsDistributionStats = {\n",
    "    val means = 0.until(rts.size).map{i => (i,mean(rtForecasts.map(_(i))))}\n",
    "    val hdpis = 0.until(rts.size).map{i => (i, hdpi(rtForecasts.map(_(i))))}\n",
    "    RtsDistributionStats(means, hdpis)\n",
    "}"
   ]
  },
  {
   "cell_type": "code",
   "execution_count": 16,
   "metadata": {
    "scrolled": false
   },
   "outputs": [
    {
     "name": "stdout",
     "output_type": "stream",
     "text": [
      "Retrying..\n"
     ]
    },
    {
     "data": {
      "text/html": [
       "<b>Chain 1 Complete</b>: <div>Iteration: 1000 (7ms)</div> <div>Acceptance rate: 0.80</div> <div>E-BFMI: 0.64</div> <div>Step size: 0.03</div> <div>Total gradient evaluations: 2e+05 (6us)</div> <div>Total time: 42s</div>"
      ]
     },
     "metadata": {},
     "output_type": "display_data"
    },
    {
     "data": {
      "text/html": [
       "<b>Chain 2 Complete</b>: <div>Iteration: 1000 (10ms)</div> <div>Acceptance rate: 0.85</div> <div>E-BFMI: 0.71</div> <div>Step size: 0.03</div> <div>Total gradient evaluations: 2e+05 (11us)</div> <div>Total time: 31s</div>"
      ]
     },
     "metadata": {},
     "output_type": "display_data"
    },
    {
     "name": "stdout",
     "output_type": "stream",
     "text": [
      "Sampled..\n"
     ]
    },
    {
     "ename": "",
     "evalue": "",
     "output_type": "error",
     "traceback": [
      "\u001b[31mjava.util.NoSuchElementException: key not found: com.stripe.rainier.ir.Param@5e05efff\u001b[39m\n  scala.collection.MapLike.default(\u001b[32mMapLike.scala\u001b[39m:\u001b[32m235\u001b[39m)\n  scala.collection.MapLike.default$(\u001b[32mMapLike.scala\u001b[39m:\u001b[32m234\u001b[39m)\n  scala.collection.AbstractMap.default(\u001b[32mMap.scala\u001b[39m:\u001b[32m63\u001b[39m)\n  scala.collection.MapLike.apply(\u001b[32mMapLike.scala\u001b[39m:\u001b[32m144\u001b[39m)\n  scala.collection.MapLike.apply$(\u001b[32mMapLike.scala\u001b[39m:\u001b[32m143\u001b[39m)\n  scala.collection.AbstractMap.apply(\u001b[32mMap.scala\u001b[39m:\u001b[32m63\u001b[39m)\n  com.stripe.rainier.ir.ExprMethodGenerator.traverse(\u001b[32mExprMethodGenerator.scala\u001b[39m:\u001b[32m24\u001b[39m)\n  com.stripe.rainier.ir.ExprMethodGenerator.traverse(\u001b[32mExprMethodGenerator.scala\u001b[39m:\u001b[32m55\u001b[39m)\n  com.stripe.rainier.ir.ExprMethodGenerator.$anonfun$traverse$1(\u001b[32mExprMethodGenerator.scala\u001b[39m:\u001b[32m34\u001b[39m)\n  com.stripe.rainier.ir.MethodGenerator.storeGlobalVar(\u001b[32mMethodGenerator.scala\u001b[39m:\u001b[32m45\u001b[39m)\n  com.stripe.rainier.ir.MethodGenerator.storeGlobalVar$(\u001b[32mMethodGenerator.scala\u001b[39m:\u001b[32m42\u001b[39m)\n  com.stripe.rainier.ir.ExprMethodGenerator.storeGlobalVar(\u001b[32mExprMethodGenerator.scala\u001b[39m:\u001b[32m3\u001b[39m)\n  com.stripe.rainier.ir.ExprMethodGenerator.traverse(\u001b[32mExprMethodGenerator.scala\u001b[39m:\u001b[32m34\u001b[39m)\n  com.stripe.rainier.ir.ExprMethodGenerator.traverse(\u001b[32mExprMethodGenerator.scala\u001b[39m:\u001b[32m52\u001b[39m)\n  com.stripe.rainier.ir.ExprMethodGenerator.$anonfun$traverse$1(\u001b[32mExprMethodGenerator.scala\u001b[39m:\u001b[32m34\u001b[39m)\n  com.stripe.rainier.ir.MethodGenerator.storeGlobalVar(\u001b[32mMethodGenerator.scala\u001b[39m:\u001b[32m45\u001b[39m)\n  com.stripe.rainier.ir.MethodGenerator.storeGlobalVar$(\u001b[32mMethodGenerator.scala\u001b[39m:\u001b[32m42\u001b[39m)\n  com.stripe.rainier.ir.ExprMethodGenerator.storeGlobalVar(\u001b[32mExprMethodGenerator.scala\u001b[39m:\u001b[32m3\u001b[39m)\n  com.stripe.rainier.ir.ExprMethodGenerator.traverse(\u001b[32mExprMethodGenerator.scala\u001b[39m:\u001b[32m34\u001b[39m)\n  com.stripe.rainier.ir.ExprMethodGenerator.traverse(\u001b[32mExprMethodGenerator.scala\u001b[39m:\u001b[32m51\u001b[39m)\n  com.stripe.rainier.ir.ExprMethodGenerator.traverse(\u001b[32mExprMethodGenerator.scala\u001b[39m:\u001b[32m28\u001b[39m)\n  com.stripe.rainier.ir.ExprMethodGenerator.traverse(\u001b[32mExprMethodGenerator.scala\u001b[39m:\u001b[32m51\u001b[39m)\n  com.stripe.rainier.ir.ExprMethodGenerator.traverse(\u001b[32mExprMethodGenerator.scala\u001b[39m:\u001b[32m28\u001b[39m)\n  com.stripe.rainier.ir.ExprMethodGenerator.traverse(\u001b[32mExprMethodGenerator.scala\u001b[39m:\u001b[32m52\u001b[39m)\n  com.stripe.rainier.ir.ExprMethodGenerator.$anonfun$traverse$1(\u001b[32mExprMethodGenerator.scala\u001b[39m:\u001b[32m34\u001b[39m)\n  com.stripe.rainier.ir.MethodGenerator.storeGlobalVar(\u001b[32mMethodGenerator.scala\u001b[39m:\u001b[32m45\u001b[39m)\n  com.stripe.rainier.ir.MethodGenerator.storeGlobalVar$(\u001b[32mMethodGenerator.scala\u001b[39m:\u001b[32m42\u001b[39m)\n  com.stripe.rainier.ir.ExprMethodGenerator.storeGlobalVar(\u001b[32mExprMethodGenerator.scala\u001b[39m:\u001b[32m3\u001b[39m)\n  com.stripe.rainier.ir.ExprMethodGenerator.traverse(\u001b[32mExprMethodGenerator.scala\u001b[39m:\u001b[32m34\u001b[39m)\n  com.stripe.rainier.ir.ExprMethodGenerator.traverse(\u001b[32mExprMethodGenerator.scala\u001b[39m:\u001b[32m51\u001b[39m)\n  com.stripe.rainier.ir.ExprMethodGenerator.$anonfun$traverse$1(\u001b[32mExprMethodGenerator.scala\u001b[39m:\u001b[32m34\u001b[39m)\n  com.stripe.rainier.ir.MethodGenerator.storeGlobalVar(\u001b[32mMethodGenerator.scala\u001b[39m:\u001b[32m45\u001b[39m)\n  com.stripe.rainier.ir.MethodGenerator.storeGlobalVar$(\u001b[32mMethodGenerator.scala\u001b[39m:\u001b[32m42\u001b[39m)\n  com.stripe.rainier.ir.ExprMethodGenerator.storeGlobalVar(\u001b[32mExprMethodGenerator.scala\u001b[39m:\u001b[32m3\u001b[39m)\n  com.stripe.rainier.ir.ExprMethodGenerator.traverse(\u001b[32mExprMethodGenerator.scala\u001b[39m:\u001b[32m34\u001b[39m)\n  com.stripe.rainier.ir.ExprMethodGenerator.traverse(\u001b[32mExprMethodGenerator.scala\u001b[39m:\u001b[32m51\u001b[39m)\n  com.stripe.rainier.ir.ExprMethodGenerator.$anonfun$traverse$1(\u001b[32mExprMethodGenerator.scala\u001b[39m:\u001b[32m34\u001b[39m)\n  com.stripe.rainier.ir.MethodGenerator.storeGlobalVar(\u001b[32mMethodGenerator.scala\u001b[39m:\u001b[32m45\u001b[39m)\n  com.stripe.rainier.ir.MethodGenerator.storeGlobalVar$(\u001b[32mMethodGenerator.scala\u001b[39m:\u001b[32m42\u001b[39m)\n  com.stripe.rainier.ir.ExprMethodGenerator.storeGlobalVar(\u001b[32mExprMethodGenerator.scala\u001b[39m:\u001b[32m3\u001b[39m)\n  com.stripe.rainier.ir.ExprMethodGenerator.traverse(\u001b[32mExprMethodGenerator.scala\u001b[39m:\u001b[32m34\u001b[39m)\n  com.stripe.rainier.ir.ExprMethodGenerator.traverse(\u001b[32mExprMethodGenerator.scala\u001b[39m:\u001b[32m51\u001b[39m)\n  com.stripe.rainier.ir.ExprMethodGenerator.$anonfun$traverse$1(\u001b[32mExprMethodGenerator.scala\u001b[39m:\u001b[32m34\u001b[39m)\n  com.stripe.rainier.ir.MethodGenerator.storeGlobalVar(\u001b[32mMethodGenerator.scala\u001b[39m:\u001b[32m45\u001b[39m)\n  com.stripe.rainier.ir.MethodGenerator.storeGlobalVar$(\u001b[32mMethodGenerator.scala\u001b[39m:\u001b[32m42\u001b[39m)\n  com.stripe.rainier.ir.ExprMethodGenerator.storeGlobalVar(\u001b[32mExprMethodGenerator.scala\u001b[39m:\u001b[32m3\u001b[39m)\n  com.stripe.rainier.ir.ExprMethodGenerator.traverse(\u001b[32mExprMethodGenerator.scala\u001b[39m:\u001b[32m34\u001b[39m)\n  com.stripe.rainier.ir.ExprMethodGenerator.traverse(\u001b[32mExprMethodGenerator.scala\u001b[39m:\u001b[32m51\u001b[39m)\n  com.stripe.rainier.ir.ExprMethodGenerator.$anonfun$traverse$1(\u001b[32mExprMethodGenerator.scala\u001b[39m:\u001b[32m34\u001b[39m)\n  com.stripe.rainier.ir.MethodGenerator.storeGlobalVar(\u001b[32mMethodGenerator.scala\u001b[39m:\u001b[32m45\u001b[39m)\n  com.stripe.rainier.ir.MethodGenerator.storeGlobalVar$(\u001b[32mMethodGenerator.scala\u001b[39m:\u001b[32m42\u001b[39m)\n  com.stripe.rainier.ir.ExprMethodGenerator.storeGlobalVar(\u001b[32mExprMethodGenerator.scala\u001b[39m:\u001b[32m3\u001b[39m)\n  com.stripe.rainier.ir.ExprMethodGenerator.traverse(\u001b[32mExprMethodGenerator.scala\u001b[39m:\u001b[32m34\u001b[39m)\n  com.stripe.rainier.ir.ExprMethodGenerator.traverse(\u001b[32mExprMethodGenerator.scala\u001b[39m:\u001b[32m51\u001b[39m)\n  com.stripe.rainier.ir.ExprMethodGenerator.$anonfun$traverse$1(\u001b[32mExprMethodGenerator.scala\u001b[39m:\u001b[32m34\u001b[39m)\n  com.stripe.rainier.ir.MethodGenerator.storeGlobalVar(\u001b[32mMethodGenerator.scala\u001b[39m:\u001b[32m45\u001b[39m)\n  com.stripe.rainier.ir.MethodGenerator.storeGlobalVar$(\u001b[32mMethodGenerator.scala\u001b[39m:\u001b[32m42\u001b[39m)\n  com.stripe.rainier.ir.ExprMethodGenerator.storeGlobalVar(\u001b[32mExprMethodGenerator.scala\u001b[39m:\u001b[32m3\u001b[39m)\n  com.stripe.rainier.ir.ExprMethodGenerator.traverse(\u001b[32mExprMethodGenerator.scala\u001b[39m:\u001b[32m34\u001b[39m)\n  com.stripe.rainier.ir.ExprMethodGenerator.traverse(\u001b[32mExprMethodGenerator.scala\u001b[39m:\u001b[32m51\u001b[39m)\n  com.stripe.rainier.ir.ExprMethodGenerator.$anonfun$traverse$1(\u001b[32mExprMethodGenerator.scala\u001b[39m:\u001b[32m34\u001b[39m)\n  com.stripe.rainier.ir.MethodGenerator.storeGlobalVar(\u001b[32mMethodGenerator.scala\u001b[39m:\u001b[32m45\u001b[39m)\n  com.stripe.rainier.ir.MethodGenerator.storeGlobalVar$(\u001b[32mMethodGenerator.scala\u001b[39m:\u001b[32m42\u001b[39m)\n  com.stripe.rainier.ir.ExprMethodGenerator.storeGlobalVar(\u001b[32mExprMethodGenerator.scala\u001b[39m:\u001b[32m3\u001b[39m)\n  com.stripe.rainier.ir.ExprMethodGenerator.traverse(\u001b[32mExprMethodGenerator.scala\u001b[39m:\u001b[32m34\u001b[39m)\n  com.stripe.rainier.ir.ExprMethodGenerator.traverse(\u001b[32mExprMethodGenerator.scala\u001b[39m:\u001b[32m51\u001b[39m)\n  com.stripe.rainier.ir.ExprMethodGenerator.$anonfun$traverse$1(\u001b[32mExprMethodGenerator.scala\u001b[39m:\u001b[32m34\u001b[39m)\n  com.stripe.rainier.ir.MethodGenerator.storeGlobalVar(\u001b[32mMethodGenerator.scala\u001b[39m:\u001b[32m45\u001b[39m)\n  com.stripe.rainier.ir.MethodGenerator.storeGlobalVar$(\u001b[32mMethodGenerator.scala\u001b[39m:\u001b[32m42\u001b[39m)\n  com.stripe.rainier.ir.ExprMethodGenerator.storeGlobalVar(\u001b[32mExprMethodGenerator.scala\u001b[39m:\u001b[32m3\u001b[39m)\n  com.stripe.rainier.ir.ExprMethodGenerator.traverse(\u001b[32mExprMethodGenerator.scala\u001b[39m:\u001b[32m34\u001b[39m)\n  com.stripe.rainier.ir.ExprMethodGenerator.traverse(\u001b[32mExprMethodGenerator.scala\u001b[39m:\u001b[32m51\u001b[39m)\n  com.stripe.rainier.ir.ExprMethodGenerator.$anonfun$traverse$1(\u001b[32mExprMethodGenerator.scala\u001b[39m:\u001b[32m34\u001b[39m)\n  com.stripe.rainier.ir.MethodGenerator.storeGlobalVar(\u001b[32mMethodGenerator.scala\u001b[39m:\u001b[32m45\u001b[39m)\n  com.stripe.rainier.ir.MethodGenerator.storeGlobalVar$(\u001b[32mMethodGenerator.scala\u001b[39m:\u001b[32m42\u001b[39m)\n  com.stripe.rainier.ir.ExprMethodGenerator.storeGlobalVar(\u001b[32mExprMethodGenerator.scala\u001b[39m:\u001b[32m3\u001b[39m)\n  com.stripe.rainier.ir.ExprMethodGenerator.traverse(\u001b[32mExprMethodGenerator.scala\u001b[39m:\u001b[32m34\u001b[39m)\n  com.stripe.rainier.ir.ExprMethodGenerator.traverse(\u001b[32mExprMethodGenerator.scala\u001b[39m:\u001b[32m51\u001b[39m)\n  com.stripe.rainier.ir.ExprMethodGenerator.$anonfun$traverse$1(\u001b[32mExprMethodGenerator.scala\u001b[39m:\u001b[32m34\u001b[39m)\n  com.stripe.rainier.ir.MethodGenerator.storeGlobalVar(\u001b[32mMethodGenerator.scala\u001b[39m:\u001b[32m45\u001b[39m)\n  com.stripe.rainier.ir.MethodGenerator.storeGlobalVar$(\u001b[32mMethodGenerator.scala\u001b[39m:\u001b[32m42\u001b[39m)\n  com.stripe.rainier.ir.ExprMethodGenerator.storeGlobalVar(\u001b[32mExprMethodGenerator.scala\u001b[39m:\u001b[32m3\u001b[39m)\n  com.stripe.rainier.ir.ExprMethodGenerator.traverse(\u001b[32mExprMethodGenerator.scala\u001b[39m:\u001b[32m34\u001b[39m)\n  com.stripe.rainier.ir.ExprMethodGenerator.traverse(\u001b[32mExprMethodGenerator.scala\u001b[39m:\u001b[32m51\u001b[39m)\n  com.stripe.rainier.ir.ExprMethodGenerator.$anonfun$traverse$1(\u001b[32mExprMethodGenerator.scala\u001b[39m:\u001b[32m34\u001b[39m)\n  com.stripe.rainier.ir.MethodGenerator.storeGlobalVar(\u001b[32mMethodGenerator.scala\u001b[39m:\u001b[32m45\u001b[39m)\n  com.stripe.rainier.ir.MethodGenerator.storeGlobalVar$(\u001b[32mMethodGenerator.scala\u001b[39m:\u001b[32m42\u001b[39m)\n  com.stripe.rainier.ir.ExprMethodGenerator.storeGlobalVar(\u001b[32mExprMethodGenerator.scala\u001b[39m:\u001b[32m3\u001b[39m)\n  com.stripe.rainier.ir.ExprMethodGenerator.traverse(\u001b[32mExprMethodGenerator.scala\u001b[39m:\u001b[32m34\u001b[39m)\n  com.stripe.rainier.ir.ExprMethodGenerator.traverse(\u001b[32mExprMethodGenerator.scala\u001b[39m:\u001b[32m51\u001b[39m)\n  com.stripe.rainier.ir.ExprMethodGenerator.$anonfun$traverse$1(\u001b[32mExprMethodGenerator.scala\u001b[39m:\u001b[32m34\u001b[39m)\n  com.stripe.rainier.ir.MethodGenerator.storeGlobalVar(\u001b[32mMethodGenerator.scala\u001b[39m:\u001b[32m45\u001b[39m)\n  com.stripe.rainier.ir.MethodGenerator.storeGlobalVar$(\u001b[32mMethodGenerator.scala\u001b[39m:\u001b[32m42\u001b[39m)\n  com.stripe.rainier.ir.ExprMethodGenerator.storeGlobalVar(\u001b[32mExprMethodGenerator.scala\u001b[39m:\u001b[32m3\u001b[39m)\n  com.stripe.rainier.ir.ExprMethodGenerator.traverse(\u001b[32mExprMethodGenerator.scala\u001b[39m:\u001b[32m34\u001b[39m)\n  com.stripe.rainier.ir.ExprMethodGenerator.traverse(\u001b[32mExprMethodGenerator.scala\u001b[39m:\u001b[32m51\u001b[39m)\n  com.stripe.rainier.ir.ExprMethodGenerator.traverse(\u001b[32mExprMethodGenerator.scala\u001b[39m:\u001b[32m28\u001b[39m)\n  com.stripe.rainier.ir.ExprMethodGenerator.traverse(\u001b[32mExprMethodGenerator.scala\u001b[39m:\u001b[32m51\u001b[39m)\n  com.stripe.rainier.ir.ExprMethodGenerator.traverse(\u001b[32mExprMethodGenerator.scala\u001b[39m:\u001b[32m28\u001b[39m)\n  com.stripe.rainier.ir.ExprMethodGenerator.traverse(\u001b[32mExprMethodGenerator.scala\u001b[39m:\u001b[32m55\u001b[39m)\n  com.stripe.rainier.ir.ExprMethodGenerator.<init>(\u001b[32mExprMethodGenerator.scala\u001b[39m:\u001b[32m16\u001b[39m)\n  com.stripe.rainier.ir.CompiledFunction$.$anonfun$apply$4(\u001b[32mCompiledFunction.scala\u001b[39m:\u001b[32m79\u001b[39m)\n  scala.collection.immutable.List.map(\u001b[32mList.scala\u001b[39m:\u001b[32m286\u001b[39m)\n  com.stripe.rainier.ir.CompiledFunction$.$anonfun$apply$3(\u001b[32mCompiledFunction.scala\u001b[39m:\u001b[32m74\u001b[39m)\n  scala.collection.TraversableLike.$anonfun$flatMap$1(\u001b[32mTraversableLike.scala\u001b[39m:\u001b[32m245\u001b[39m)\n  scala.collection.immutable.List.foreach(\u001b[32mList.scala\u001b[39m:\u001b[32m392\u001b[39m)\n  scala.collection.TraversableLike.flatMap(\u001b[32mTraversableLike.scala\u001b[39m:\u001b[32m245\u001b[39m)\n  scala.collection.TraversableLike.flatMap$(\u001b[32mTraversableLike.scala\u001b[39m:\u001b[32m242\u001b[39m)\n  scala.collection.immutable.List.flatMap(\u001b[32mList.scala\u001b[39m:\u001b[32m355\u001b[39m)\n  com.stripe.rainier.ir.CompiledFunction$.apply(\u001b[32mCompiledFunction.scala\u001b[39m:\u001b[32m72\u001b[39m)\n  com.stripe.rainier.compute.Compiler.compile(\u001b[32mCompiler.scala\u001b[39m:\u001b[32m29\u001b[39m)\n  com.stripe.rainier.core.Generator.prepare(\u001b[32mGenerator.scala\u001b[39m:\u001b[32m76\u001b[39m)\n  com.stripe.rainier.core.Generator.prepare$(\u001b[32mGenerator.scala\u001b[39m:\u001b[32m59\u001b[39m)\n  com.stripe.rainier.core.Generator$From.prepare(\u001b[32mGenerator.scala\u001b[39m:\u001b[32m110\u001b[39m)\n  com.stripe.rainier.core.Trace.predict(\u001b[32mTrace.scala\u001b[39m:\u001b[32m35\u001b[39m)\n  ammonite.$sess.cmd11$Helper.predictRtOnset(\u001b[32mcmd11.sc\u001b[39m:\u001b[32m37\u001b[39m)\n  ammonite.$sess.cmd15$Helper.$anonfun$res15$1(\u001b[32mcmd15.sc\u001b[39m:\u001b[32m7\u001b[39m)\n  ammonite.$sess.cmd4$Helper.time(\u001b[32mcmd4.sc\u001b[39m:\u001b[32m3\u001b[39m)\n  ammonite.$sess.cmd15$Helper.<init>(\u001b[32mcmd15.sc\u001b[39m:\u001b[32m6\u001b[39m)\n  ammonite.$sess.cmd15$.<init>(\u001b[32mcmd15.sc\u001b[39m:\u001b[32m7\u001b[39m)\n  ammonite.$sess.cmd15$.<clinit>(\u001b[32mcmd15.sc\u001b[39m:\u001b[32m-1\u001b[39m)"
     ]
    }
   ],
   "source": [
    "{{\n",
    "    val countryName = \"Poland\"\n",
    "    val onsetNumbers = countriesOnsetData.collect {\n",
    "        case m if m(\"Country\") == countryName => m(\"Onset\").toDouble.round\n",
    "    }\n",
    "    val (rts,estimates) = time { \n",
    "        val res = predictRtOnset(onsetNumbers, pdelay, 30)\n",
    "        print(\"Returning..\")\n",
    "        res\n",
    "    }\n",
    "    print(\"Here[1]..\")\n",
    "    val RtsDistributionStats(means, hdpis) = distributionStats(rts, estimates)\n",
    "    print(\"Here[2]..\")\n",
    "    show(\"t\", \"Rt\", line(means), shade(hdpis))\n",
    "}}"
   ]
  }
 ],
 "metadata": {
  "kernelspec": {
   "display_name": "Rainier (Scala 2.12)",
   "language": "scala",
   "name": "rainier"
  },
  "language_info": {
   "codemirror_mode": "text/x-scala",
   "file_extension": ".scala",
   "mimetype": "text/x-scala",
   "name": "scala",
   "nbconvert_exporter": "script",
   "version": "2.12.10"
  }
 },
 "nbformat": 4,
 "nbformat_minor": 2
}
