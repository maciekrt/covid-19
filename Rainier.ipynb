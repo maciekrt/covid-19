{
 "cells": [
  {
   "cell_type": "markdown",
   "metadata": {},
   "source": [
    "# Estimating COVID-19's $R_t$ with Rainier (ported from PYMC)"
   ]
  },
  {
   "cell_type": "markdown",
   "metadata": {},
   "source": [
    "Grzegorz Kossakowski & Maciek Zdanowicz - May 5 (beta)\n",
    "\n",
    "Model originally built by [Kevin Systrom](https://twitter.com/kevin) in `Realtime Rt mcmc.ipynb` notebook, ported to [Rainier](https://rainier.fit) with lots of help from [Avi Bryant](https://twitter.com/avibryant). Model comparison for European countries is in `Realtime Rt plots only.ipynb`.\n",
    "\n",
    "This notebook requires [Almond](https://almond.sh) to run.\n",
    "\n",
    "It's a work in progress."
   ]
  },
  {
   "cell_type": "code",
   "execution_count": 1,
   "metadata": {
    "scrolled": true
   },
   "outputs": [
    {
     "data": {
      "text/plain": [
       "\u001b[32mimport \u001b[39m\u001b[36m$ivy.$                               \n",
       "\u001b[39m\n",
       "\u001b[32mimport \u001b[39m\u001b[36m$ivy.$                                   \u001b[39m"
      ]
     },
     "execution_count": 1,
     "metadata": {},
     "output_type": "execute_result"
    }
   ],
   "source": [
    "import $ivy.`com.stripe::rainier-core:0.3.3`\n",
    "import $ivy.`com.stripe::rainier-notebook:0.3.3`"
   ]
  },
  {
   "cell_type": "code",
   "execution_count": 2,
   "metadata": {},
   "outputs": [
    {
     "data": {
      "text/plain": [
       "\u001b[32mimport \u001b[39m\u001b[36mcom.stripe.rainier.compute._\n",
       "\u001b[39m\n",
       "\u001b[32mimport \u001b[39m\u001b[36mcom.stripe.rainier.core._\n",
       "\u001b[39m\n",
       "\u001b[32mimport \u001b[39m\u001b[36mcom.stripe.rainier.sampler._\n",
       "\u001b[39m\n",
       "\u001b[32mimport \u001b[39m\u001b[36mcom.stripe.rainier.notebook._\u001b[39m"
      ]
     },
     "execution_count": 2,
     "metadata": {},
     "output_type": "execute_result"
    }
   ],
   "source": [
    "import com.stripe.rainier.compute._\n",
    "import com.stripe.rainier.core._\n",
    "import com.stripe.rainier.sampler._\n",
    "import com.stripe.rainier.notebook._"
   ]
  },
  {
   "cell_type": "code",
   "execution_count": 3,
   "metadata": {},
   "outputs": [],
   "source": [
    "PPrint.register(repl)"
   ]
  },
  {
   "cell_type": "code",
   "execution_count": 4,
   "metadata": {
    "scrolled": true
   },
   "outputs": [
    {
     "data": {
      "text/plain": [
       "\u001b[32mimport \u001b[39m\u001b[36m$ivy.$                                      \n",
       "\u001b[39m\n",
       "\u001b[32mimport \u001b[39m\u001b[36mcom.github.tototoshi.csv._\n",
       "\u001b[39m\n",
       "\u001b[32mimport \u001b[39m\u001b[36mjava.io.File\n",
       "\u001b[39m\n",
       "\u001b[32mimport \u001b[39m\u001b[36mscala.util.Try\u001b[39m"
      ]
     },
     "execution_count": 4,
     "metadata": {},
     "output_type": "execute_result"
    }
   ],
   "source": [
    "import $ivy.`com.github.tototoshi::scala-csv:1.3.6`\n",
    "import com.github.tototoshi.csv._\n",
    "import java.io.File\n",
    "import scala.util.Try"
   ]
  },
  {
   "cell_type": "code",
   "execution_count": 5,
   "metadata": {},
   "outputs": [
    {
     "data": {
      "text/plain": [
       "defined \u001b[32mfunction\u001b[39m \u001b[36mtime\u001b[39m"
      ]
     },
     "execution_count": 5,
     "metadata": {},
     "output_type": "execute_result"
    }
   ],
   "source": [
    "def time[R](block: => R): R = {\n",
    "    val t0 = System.nanoTime()\n",
    "    val result = block    // call-by-name\n",
    "    val t1 = System.nanoTime()\n",
    "    val timeMilis = ((t1 - t0) / 1e6).toInt\n",
    "    println(s\"Elapsed time: $timeMilis ms\")\n",
    "    result\n",
    "}"
   ]
  },
  {
   "cell_type": "code",
   "execution_count": 6,
   "metadata": {},
   "outputs": [
    {
     "data": {
      "text/plain": [
       "\u001b[36mcountriesOnsetData\u001b[39m: \u001b[32mList\u001b[39m[\u001b[32mMap\u001b[39m[\u001b[32mString\u001b[39m, \u001b[32mString\u001b[39m]] = \u001b[33mList\u001b[39m(\n",
       "  \u001b[33mMap\u001b[39m(\n",
       "    \u001b[32m\"country\"\u001b[39m -> \u001b[32m\"Austria\"\u001b[39m,\n",
       "    \u001b[32m\"date\"\u001b[39m -> \u001b[32m\"2020-02-06\"\u001b[39m,\n",
       "    \u001b[32m\"Onset\"\u001b[39m -> \u001b[32m\"1.180164888457808\"\u001b[39m\n",
       "  ),\n",
       "  \u001b[33mMap\u001b[39m(\n",
       "    \u001b[32m\"country\"\u001b[39m -> \u001b[32m\"Austria\"\u001b[39m,\n",
       "    \u001b[32m\"date\"\u001b[39m -> \u001b[32m\"2020-02-07\"\u001b[39m,\n",
       "    \u001b[32m\"Onset\"\u001b[39m -> \u001b[32m\"1.236663433559651\"\u001b[39m\n",
       "  ),\n",
       "  \u001b[33mMap\u001b[39m(\n",
       "    \u001b[32m\"country\"\u001b[39m -> \u001b[32m\"Austria\"\u001b[39m,\n",
       "    \u001b[32m\"date\"\u001b[39m -> \u001b[32m\"2020-02-08\"\u001b[39m,\n",
       "    \u001b[32m\"Onset\"\u001b[39m -> \u001b[32m\"1.6939864209505335\"\u001b[39m\n",
       "  ),\n",
       "  \u001b[33mMap\u001b[39m(\n",
       "    \u001b[32m\"country\"\u001b[39m -> \u001b[32m\"Austria\"\u001b[39m,\n",
       "    \u001b[32m\"date\"\u001b[39m -> \u001b[32m\"2020-02-09\"\u001b[39m,\n",
       "    \u001b[32m\"Onset\"\u001b[39m -> \u001b[32m\"1.9956353055286131\"\u001b[39m\n",
       "  ),\n",
       "  \u001b[33mMap\u001b[39m(\n",
       "    \u001b[32m\"country\"\u001b[39m -> \u001b[32m\"Austria\"\u001b[39m,\n",
       "    \u001b[32m\"date\"\u001b[39m -> \u001b[32m\"2020-02-10\"\u001b[39m,\n",
       "    \u001b[32m\"Onset\"\u001b[39m -> \u001b[32m\"2.630455868089234\"\u001b[39m\n",
       "  ),\n",
       "  \u001b[33mMap\u001b[39m(\n",
       "    \u001b[32m\"country\"\u001b[39m -> \u001b[32m\"Austria\"\u001b[39m,\n",
       "    \u001b[32m\"date\"\u001b[39m -> \u001b[32m\"2020-02-11\"\u001b[39m,\n",
       "    \u001b[32m\"Onset\"\u001b[39m -> \u001b[32m\"2.842386032977692\"\u001b[39m\n",
       "  ),\n",
       "  \u001b[33mMap\u001b[39m(\n",
       "    \u001b[32m\"country\"\u001b[39m -> \u001b[32m\"Austria\"\u001b[39m,\n",
       "    \u001b[32m\"date\"\u001b[39m -> \u001b[32m\"2020-02-12\"\u001b[39m,\n",
       "    \u001b[32m\"Onset\"\u001b[39m -> \u001b[32m\"3.0227934044616878\"\u001b[39m\n",
       "  ),\n",
       "  \u001b[33mMap\u001b[39m(\n",
       "    \u001b[32m\"country\"\u001b[39m -> \u001b[32m\"Austria\"\u001b[39m,\n",
       "    \u001b[32m\"date\"\u001b[39m -> \u001b[32m\"2020-02-13\"\u001b[39m,\n",
       "..."
      ]
     },
     "execution_count": 6,
     "metadata": {},
     "output_type": "execute_result"
    }
   ],
   "source": [
    "val countriesOnsetData = {\n",
    "    val csvReader = CSVReader.open(new File(\"data/onset.csv\"))\n",
    "    val xs = csvReader.allWithHeaders()\n",
    "    csvReader.close()\n",
    "    xs\n",
    "}"
   ]
  },
  {
   "cell_type": "code",
   "execution_count": 7,
   "metadata": {},
   "outputs": [
    {
     "data": {
      "text/plain": [
       "\u001b[32mimport \u001b[39m\u001b[36mjava.time.LocalDate\n",
       "\u001b[39m\n",
       "\u001b[32mimport \u001b[39m\u001b[36mjava.time.chrono.ChronoLocalDate\n",
       "// so comparisons work like max()\n",
       "\u001b[39m\n",
       "\u001b[32mimport \u001b[39m\u001b[36mscala.math.Ordering.Implicits._\n",
       "\n",
       "\u001b[39m\n",
       "defined \u001b[32mfunction\u001b[39m \u001b[36mtoDate\u001b[39m\n",
       "\u001b[36mres6_4\u001b[39m: \u001b[32mLocalDate\u001b[39m = 2020-06-22"
      ]
     },
     "execution_count": 7,
     "metadata": {},
     "output_type": "execute_result"
    }
   ],
   "source": [
    "import java.time.LocalDate\n",
    "import java.time.chrono.ChronoLocalDate\n",
    "// so comparisons work like max()\n",
    "import scala.math.Ordering.Implicits._\n",
    "\n",
    "def toDate(s: String): LocalDate =\n",
    "    LocalDate.parse(s)\n",
    "\n",
    "// we need to specify type parameter ChronoLocalDate (a super type of LocalDate) because\n",
    "// that's what the comparison is defined for\n",
    "countriesOnsetData.map(entry => toDate(entry(\"date\"))).max[ChronoLocalDate]"
   ]
  },
  {
   "cell_type": "code",
   "execution_count": 8,
   "metadata": {
    "scrolled": true
   },
   "outputs": [
    {
     "data": {
      "text/plain": [
       "\u001b[36mpdelayData\u001b[39m: \u001b[32mList\u001b[39m[\u001b[32mMap\u001b[39m[\u001b[32mString\u001b[39m, \u001b[32mString\u001b[39m]] = \u001b[33mList\u001b[39m(\n",
       "  \u001b[33mMap\u001b[39m(\u001b[32m\"index\"\u001b[39m -> \u001b[32m\"0\"\u001b[39m, \u001b[32m\"pdelay\"\u001b[39m -> \u001b[32m\"0.006547041707080504\"\u001b[39m),\n",
       "  \u001b[33mMap\u001b[39m(\u001b[32m\"index\"\u001b[39m -> \u001b[32m\"1\"\u001b[39m, \u001b[32m\"pdelay\"\u001b[39m -> \u001b[32m\"0.04194956353055286\"\u001b[39m),\n",
       "  \u001b[33mMap\u001b[39m(\u001b[32m\"index\"\u001b[39m -> \u001b[32m\"2\"\u001b[39m, \u001b[32m\"pdelay\"\u001b[39m -> \u001b[32m\"0.05771096023278371\"\u001b[39m),\n",
       "  \u001b[33mMap\u001b[39m(\u001b[32m\"index\"\u001b[39m -> \u001b[32m\"3\"\u001b[39m, \u001b[32m\"pdelay\"\u001b[39m -> \u001b[32m\"0.06983511154219205\"\u001b[39m),\n",
       "  \u001b[33mMap\u001b[39m(\u001b[32m\"index\"\u001b[39m -> \u001b[32m\"4\"\u001b[39m, \u001b[32m\"pdelay\"\u001b[39m -> \u001b[32m\"0.07153249272550921\"\u001b[39m),\n",
       "  \u001b[33mMap\u001b[39m(\u001b[32m\"index\"\u001b[39m -> \u001b[32m\"5\"\u001b[39m, \u001b[32m\"pdelay\"\u001b[39m -> \u001b[32m\"0.08583899127061105\"\u001b[39m),\n",
       "  \u001b[33mMap\u001b[39m(\u001b[32m\"index\"\u001b[39m -> \u001b[32m\"6\"\u001b[39m, \u001b[32m\"pdelay\"\u001b[39m -> \u001b[32m\"0.07953443258971872\"\u001b[39m),\n",
       "  \u001b[33mMap\u001b[39m(\u001b[32m\"index\"\u001b[39m -> \u001b[32m\"7\"\u001b[39m, \u001b[32m\"pdelay\"\u001b[39m -> \u001b[32m\"0.07516973811833172\"\u001b[39m),\n",
       "  \u001b[33mMap\u001b[39m(\u001b[32m\"index\"\u001b[39m -> \u001b[32m\"8\"\u001b[39m, \u001b[32m\"pdelay\"\u001b[39m -> \u001b[32m\"0.07710960232783705\"\u001b[39m),\n",
       "  \u001b[33mMap\u001b[39m(\u001b[32m\"index\"\u001b[39m -> \u001b[32m\"9\"\u001b[39m, \u001b[32m\"pdelay\"\u001b[39m -> \u001b[32m\"0.07904946653734239\"\u001b[39m),\n",
       "  \u001b[33mMap\u001b[39m(\u001b[32m\"index\"\u001b[39m -> \u001b[32m\"10\"\u001b[39m, \u001b[32m\"pdelay\"\u001b[39m -> \u001b[32m\"0.06304558680892337\"\u001b[39m),\n",
       "  \u001b[33mMap\u001b[39m(\u001b[32m\"index\"\u001b[39m -> \u001b[32m\"11\"\u001b[39m, \u001b[32m\"pdelay\"\u001b[39m -> \u001b[32m\"0.0511639185257032\"\u001b[39m),\n",
       "  \u001b[33mMap\u001b[39m(\u001b[32m\"index\"\u001b[39m -> \u001b[32m\"12\"\u001b[39m, \u001b[32m\"pdelay\"\u001b[39m -> \u001b[32m\"0.04485935984481086\"\u001b[39m),\n",
       "  \u001b[33mMap\u001b[39m(\u001b[32m\"index\"\u001b[39m -> \u001b[32m\"13\"\u001b[39m, \u001b[32m\"pdelay\"\u001b[39m -> \u001b[32m\"0.038554801163918524\"\u001b[39m),\n",
       "  \u001b[33mMap\u001b[39m(\u001b[32m\"index\"\u001b[39m -> \u001b[32m\"14\"\u001b[39m, \u001b[32m\"pdelay\"\u001b[39m -> \u001b[32m\"0.028855480116391854\"\u001b[39m),\n",
       "  \u001b[33mMap\u001b[39m(\u001b[32m\"index\"\u001b[39m -> \u001b[32m\"15\"\u001b[39m, \u001b[32m\"pdelay\"\u001b[39m -> \u001b[32m\"0.026430649854510185\"\u001b[39m),\n",
       "  \u001b[33mMap\u001b[39m(\u001b[32m\"index\"\u001b[39m -> \u001b[32m\"16\"\u001b[39m, \u001b[32m\"pdelay\"\u001b[39m -> \u001b[32m\"0.01915615906886518\"\u001b[39m),\n",
       "  \u001b[33mMap\u001b[39m(\u001b[32m\"index\"\u001b[39m -> \u001b[32m\"17\"\u001b[39m, \u001b[32m\"pdelay\"\u001b[39m -> \u001b[32m\"0.02061105722599418\"\u001b[39m),\n",
       "  \u001b[33mMap\u001b[39m(\u001b[32m\"index\"\u001b[39m -> \u001b[32m\"18\"\u001b[39m, \u001b[32m\"pdelay\"\u001b[39m -> \u001b[32m\"0.011881668283220174\"\u001b[39m),\n",
       "  \u001b[33mMap\u001b[39m(\u001b[32m\"index\"\u001b[39m -> \u001b[32m\"19\"\u001b[39m, \u001b[32m\"pdelay\"\u001b[39m -> \u001b[32m\"0.009456838021338506\"\u001b[39m),\n",
       "  \u001b[33mMap\u001b[39m(\u001b[32m\"index\"\u001b[39m -> \u001b[32m\"20\"\u001b[39m, \u001b[32m\"pdelay\"\u001b[39m -> \u001b[32m\"0.009699321047526674\"\u001b[39m),\n",
       "  \u001b[33mMap\u001b[39m(\u001b[32m\"index\"\u001b[39m -> \u001b[32m\"21\"\u001b[39m, \u001b[32m\"pdelay\"\u001b[39m -> \u001b[32m\"0.006547041707080504\"\u001b[39m),\n",
       "  \u001b[33mMap\u001b[39m(\u001b[32m\"index\"\u001b[39m -> \u001b[32m\"22\"\u001b[39m, \u001b[32m\"pdelay\"\u001b[39m -> \u001b[32m\"0.004122211445198836\"\u001b[39m),\n",
       "  \u001b[33mMap\u001b[39m(\u001b[32m\"index\"\u001b[39m -> \u001b[32m\"23\"\u001b[39m, \u001b[32m\"pdelay\"\u001b[39m -> \u001b[32m\"0.0036372453928225023\"\u001b[39m),\n",
       "  \u001b[33mMap\u001b[39m(\u001b[32m\"index\"\u001b[39m -> \u001b[32m\"24\"\u001b[39m, \u001b[32m\"pdelay\"\u001b[39m -> \u001b[32m\"0.002909796314258002\"\u001b[39m),\n",
       "  \u001b[33mMap\u001b[39m(\u001b[32m\"index\"\u001b[39m -> \u001b[32m\"25\"\u001b[39m, \u001b[32m\"pdelay\"\u001b[39m -> \u001b[32m\"0.0036372453928225023\"\u001b[39m),\n",
       "  \u001b[33mMap\u001b[39m(\u001b[32m\"index\"\u001b[39m -> \u001b[32m\"26\"\u001b[39m, \u001b[32m\"pdelay\"\u001b[39m -> \u001b[32m\"0.0019398642095053346\"\u001b[39m),\n",
       "  \u001b[33mMap\u001b[39m(\u001b[32m\"index\"\u001b[39m -> \u001b[32m\"27\"\u001b[39m, \u001b[32m\"pdelay\"\u001b[39m -> \u001b[32m\"0.00048496605237633366\"\u001b[39m),\n",
       "  \u001b[33mMap\u001b[39m(\u001b[32m\"index\"\u001b[39m -> \u001b[32m\"28\"\u001b[39m, \u001b[32m\"pdelay\"\u001b[39m -> \u001b[32m\"0.00048496605237633366\"\u001b[39m),\n",
       "  \u001b[33mMap\u001b[39m(\u001b[32m\"index\"\u001b[39m -> \u001b[32m\"29\"\u001b[39m, \u001b[32m\"pdelay\"\u001b[39m -> \u001b[32m\"0.0\"\u001b[39m),\n",
       "  \u001b[33mMap\u001b[39m(\u001b[32m\"index\"\u001b[39m -> \u001b[32m\"30\"\u001b[39m, \u001b[32m\"pdelay\"\u001b[39m -> \u001b[32m\"0.0009699321047526673\"\u001b[39m),\n",
       "  \u001b[33mMap\u001b[39m(\u001b[32m\"index\"\u001b[39m -> \u001b[32m\"31\"\u001b[39m, \u001b[32m\"pdelay\"\u001b[39m -> \u001b[32m\"0.00024248302618816683\"\u001b[39m),\n",
       "  \u001b[33mMap\u001b[39m(\u001b[32m\"index\"\u001b[39m -> \u001b[32m\"32\"\u001b[39m, \u001b[32m\"pdelay\"\u001b[39m -> \u001b[32m\"0.00048496605237633366\"\u001b[39m),\n",
       "  \u001b[33mMap\u001b[39m(\u001b[32m\"index\"\u001b[39m -> \u001b[32m\"33\"\u001b[39m, \u001b[32m\"pdelay\"\u001b[39m -> \u001b[32m\"0.0007274490785645005\"\u001b[39m),\n",
       "  \u001b[33mMap\u001b[39m(\u001b[32m\"index\"\u001b[39m -> \u001b[32m\"34\"\u001b[39m, \u001b[32m\"pdelay\"\u001b[39m -> \u001b[32m\"0.001454898157129001\"\u001b[39m),\n",
       "  \u001b[33mMap\u001b[39m(\u001b[32m\"index\"\u001b[39m -> \u001b[32m\"35\"\u001b[39m, \u001b[32m\"pdelay\"\u001b[39m -> \u001b[32m\"0.00024248302618816683\"\u001b[39m),\n",
       "  \u001b[33mMap\u001b[39m(\u001b[32m\"index\"\u001b[39m -> \u001b[32m\"36\"\u001b[39m, \u001b[32m\"pdelay\"\u001b[39m -> \u001b[32m\"0.00048496605237633366\"\u001b[39m),\n",
       "  \u001b[33mMap\u001b[39m(\u001b[32m\"index\"\u001b[39m -> \u001b[32m\"37\"\u001b[39m, \u001b[32m\"pdelay\"\u001b[39m -> \u001b[32m\"0.0007274490785645005\"\u001b[39m),\n",
       "..."
      ]
     },
     "execution_count": 8,
     "metadata": {},
     "output_type": "execute_result"
    }
   ],
   "source": [
    "val pdelayData = {\n",
    "    val csvReader = CSVReader.open(new File(\"data/pdelay.csv\"))\n",
    "    val xs = csvReader.allWithHeaders()\n",
    "    csvReader.close()\n",
    "    xs\n",
    "}"
   ]
  },
  {
   "cell_type": "code",
   "execution_count": 11,
   "metadata": {
    "scrolled": true
   },
   "outputs": [
    {
     "data": {
      "text/plain": [
       "\u001b[36mpdelay\u001b[39m: \u001b[32mList\u001b[39m[\u001b[32mDouble\u001b[39m] = \u001b[33mList\u001b[39m(\n",
       "  \u001b[32m0.006547041707080504\u001b[39m,\n",
       "  \u001b[32m0.04194956353055286\u001b[39m,\n",
       "  \u001b[32m0.05771096023278371\u001b[39m,\n",
       "  \u001b[32m0.06983511154219205\u001b[39m,\n",
       "  \u001b[32m0.07153249272550921\u001b[39m,\n",
       "  \u001b[32m0.08583899127061105\u001b[39m,\n",
       "  \u001b[32m0.07953443258971872\u001b[39m,\n",
       "  \u001b[32m0.07516973811833172\u001b[39m,\n",
       "  \u001b[32m0.07710960232783705\u001b[39m,\n",
       "  \u001b[32m0.07904946653734239\u001b[39m,\n",
       "  \u001b[32m0.06304558680892337\u001b[39m,\n",
       "  \u001b[32m0.0511639185257032\u001b[39m,\n",
       "  \u001b[32m0.04485935984481086\u001b[39m,\n",
       "  \u001b[32m0.038554801163918524\u001b[39m,\n",
       "  \u001b[32m0.028855480116391854\u001b[39m,\n",
       "  \u001b[32m0.026430649854510185\u001b[39m,\n",
       "  \u001b[32m0.01915615906886518\u001b[39m,\n",
       "  \u001b[32m0.02061105722599418\u001b[39m,\n",
       "  \u001b[32m0.011881668283220174\u001b[39m,\n",
       "  \u001b[32m0.009456838021338506\u001b[39m,\n",
       "  \u001b[32m0.009699321047526674\u001b[39m,\n",
       "  \u001b[32m0.006547041707080504\u001b[39m,\n",
       "  \u001b[32m0.004122211445198836\u001b[39m,\n",
       "  \u001b[32m0.0036372453928225023\u001b[39m,\n",
       "  \u001b[32m0.002909796314258002\u001b[39m,\n",
       "  \u001b[32m0.0036372453928225023\u001b[39m,\n",
       "  \u001b[32m0.0019398642095053346\u001b[39m,\n",
       "  \u001b[32m4.8496605237633366E-4\u001b[39m,\n",
       "  \u001b[32m4.8496605237633366E-4\u001b[39m,\n",
       "  \u001b[32m0.0\u001b[39m,\n",
       "  \u001b[32m9.699321047526673E-4\u001b[39m,\n",
       "  \u001b[32m2.4248302618816683E-4\u001b[39m,\n",
       "  \u001b[32m4.8496605237633366E-4\u001b[39m,\n",
       "  \u001b[32m7.274490785645005E-4\u001b[39m,\n",
       "  \u001b[32m0.001454898157129001\u001b[39m,\n",
       "  \u001b[32m2.4248302618816683E-4\u001b[39m,\n",
       "  \u001b[32m4.8496605237633366E-4\u001b[39m,\n",
       "  \u001b[32m7.274490785645005E-4\u001b[39m,\n",
       "..."
      ]
     },
     "execution_count": 11,
     "metadata": {},
     "output_type": "execute_result"
    }
   ],
   "source": [
    "val pdelay = pdelayData.collect { case m => m(\"pdelay\").toDouble }"
   ]
  },
  {
   "cell_type": "code",
   "execution_count": 12,
   "metadata": {},
   "outputs": [
    {
     "data": {
      "text/plain": [
       "defined \u001b[32mfunction\u001b[39m \u001b[36mprepareDataForModel\u001b[39m"
      ]
     },
     "execution_count": 12,
     "metadata": {},
     "output_type": "execute_result"
    }
   ],
   "source": [
    "def prepareDataForModel(xs: List[Long], pd: List[Double]): List[(Long,Double)] = {\n",
    "    val cpd = pd.scanLeft(0.0)(_+_).tail\n",
    "    val cpdPadded = List.fill(xs.size - pd.size)(1.0) ++ cpd.reverse\n",
    "    // ensure that case numbers are always at least 1 so we avoid numerical issues involving 0\n",
    "    // adding 1 across all counts doesn't change inputs in any material way\n",
    "    // see the comment of `predictRt` method for the rationale\n",
    "    xs.zip(cpdPadded)\n",
    "}"
   ]
  },
  {
   "cell_type": "markdown",
   "metadata": {},
   "source": [
    "Preparation of the other model"
   ]
  },
  {
   "cell_type": "code",
   "execution_count": 13,
   "metadata": {},
   "outputs": [
    {
     "data": {
      "text/plain": [
       "\u001b[36msamplerConfig\u001b[39m: \u001b[32mDefaultConfig\u001b[39m{def massMatrixTuner(): com.stripe.rainier.sampler.IdentityMassMatrixTuner;def sampler(): com.stripe.rainier.sampler.HMCSampler} = ammonite.$sess.cmd12$Helper$$anon$1@36466cfc"
      ]
     },
     "execution_count": 13,
     "metadata": {},
     "output_type": "execute_result"
    }
   ],
   "source": [
    "val samplerConfig = new DefaultConfig {\n",
    "    override def massMatrixTuner() = new IdentityMassMatrixTuner\n",
    "    override def sampler() = new HMCSampler(100)\n",
    "    override val iterations = 1000\n",
    "    override val warmupIterations = 1000\n",
    "}"
   ]
  },
  {
   "cell_type": "markdown",
   "metadata": {},
   "source": [
    "Define a function that we'll use to retry the call to Rainier's `predict` that fails occassionally. Fortunately, the failure can be easily detected and 1-2 retries solves the issue."
   ]
  },
  {
   "cell_type": "code",
   "execution_count": 14,
   "metadata": {},
   "outputs": [
    {
     "data": {
      "text/plain": [
       "defined \u001b[32mfunction\u001b[39m \u001b[36margmin\u001b[39m"
      ]
     },
     "execution_count": 14,
     "metadata": {},
     "output_type": "execute_result"
    }
   ],
   "source": [
    "def argmin[N](seq: Seq[N])(implicit num: Numeric[N]): Int = seq.indexOf(seq.min)"
   ]
  },
  {
   "cell_type": "code",
   "execution_count": 15,
   "metadata": {},
   "outputs": [
    {
     "data": {
      "text/plain": [
       "\u001b[32mimport \u001b[39m\u001b[36mscala.collection.mutable.ArrayBuffer\n",
       "\n",
       "/* Retry returns a value and a list of logs produced during consecutive attempts */\n",
       "\u001b[39m\n",
       "defined \u001b[32mfunction\u001b[39m \u001b[36mretry\u001b[39m"
      ]
     },
     "execution_count": 15,
     "metadata": {},
     "output_type": "execute_result"
    }
   ],
   "source": [
    "import scala.collection.mutable.ArrayBuffer\n",
    "\n",
    "/* Retry returns a value and a list of logs produced during consecutive attempts */\n",
    "def retry[T](maxAttempts: Int, isSuccessful: T => (Boolean, Double)) (f: => T): (T, List[Double]) = {\n",
    "    var i = 0\n",
    "    var flag = false\n",
    "    val logListBuf = ArrayBuffer.empty[Double]\n",
    "    val resListBuf = ArrayBuffer.empty[T]\n",
    "    do {\n",
    "        i = i + 1\n",
    "        val res = f\n",
    "        resListBuf += res\n",
    "        val (resBool, log) = isSuccessful(res)\n",
    "        logListBuf += log\n",
    "        val errorMsg = if(resBool) s\"Success in [$i] iteration.\" else s\"WARN: Attempt[$i] failed. Retrying...\"\n",
    "        println(errorMsg)\n",
    "        flag = resBool\n",
    "    } while (i < maxAttempts && !flag)\n",
    "    val logList = logListBuf.toList\n",
    "    return (resListBuf(argmin(logList)), logList)\n",
    "}"
   ]
  },
  {
   "cell_type": "markdown",
   "metadata": {},
   "source": [
    "Fixed the parameters for all distributions"
   ]
  },
  {
   "cell_type": "code",
   "execution_count": 16,
   "metadata": {},
   "outputs": [
    {
     "data": {
      "text/plain": [
       "defined \u001b[32mclass\u001b[39m \u001b[36mRtModelEstimates\u001b[39m"
      ]
     },
     "execution_count": 16,
     "metadata": {},
     "output_type": "execute_result"
    }
   ],
   "source": [
    "case class RtModelEstimates(rts: Vec[Real], \n",
    "                            rtsEstimates: List[Seq[Double]], \n",
    "                            serialInterval: Real, \n",
    "                            serialIntervalEstimates: Seq[Double])"
   ]
  },
  {
   "cell_type": "code",
   "execution_count": 16,
   "metadata": {},
   "outputs": [],
   "source": [
    "// def predictRtOnsetLogProcess(onsetNumbers: List[Long], pdelay: List[Double]): (Vec[Real], List[Seq[Double]]) = {\n",
    "    \n",
    "//     val data = prepareDataForModel(onsetNumbers, pdelay)\n",
    "    \n",
    "//     val (model, rts) =  {\n",
    "//         val (onset, cum_pdelay) = data.unzip\n",
    "//         val serialInterval = Gamma(46.0,10.0).latent\n",
    "//         val logR0 = Normal(0, 1).latent\n",
    "//         val sigma = Exponential(10).latent\n",
    "//         val diffs = Laplace(0,sigma).latentVec(data.size)\n",
    "//         val logRts = Vec.from(diffs.toList.scanLeft(logR0)(_ + _))\n",
    "//         val inferredYesterday = data.take(data.size-1).map { case (o_t, cp_t) => \n",
    "//             o_t/cp_t \n",
    "//         }.zipWithIndex\n",
    "//         val expectedToday = Vec.from(inferredYesterday.zip(cum_pdelay.drop(1))).map { case ((infYest, i), cpd) =>\n",
    "//             val lambda = infYest*cpd*((logRts(i).exp - 1)/serialInterval).exp\n",
    "//             Poisson(lambda)\n",
    "//         }\n",
    "//         (Model.observe(onset.drop(1), expectedToday), logRts.map(_.exp))\n",
    "//     }\n",
    "    \n",
    "//     def detectFailedRun(trace: Trace): (Boolean, Double) = {\n",
    "//         // from: https://twitter.com/avibryant/status/1253049509128499201\n",
    "//         val stat = trace.diagnostics.map(_.rHat).max\n",
    "//         (stat < 1.1, stat)\n",
    "//     }\n",
    "    \n",
    "//     val (trace, log) = retry(maxAttempts = 10, isSuccessful = detectFailedRun) {\n",
    "//         model.sample(samplerConfig, 4)\n",
    "//     }\n",
    "    \n",
    "//     rts -> trace.predict(rts)\n",
    "// }"
   ]
  },
  {
   "cell_type": "code",
   "execution_count": 17,
   "metadata": {},
   "outputs": [
    {
     "data": {
      "text/plain": [
       "defined \u001b[32mfunction\u001b[39m \u001b[36mpredictRt\u001b[39m"
      ]
     },
     "execution_count": 17,
     "metadata": {},
     "output_type": "execute_result"
    }
   ],
   "source": [
    "// direct (and faithful) translation of Systrom's MCMC model from\n",
    "// Realtime Rt mcmc.ipynb up to different handling of this line\n",
    "// mu = pm.math.maximum(.1, expected_today)\n",
    "// my is the lambda of Poisson distribution that must be > 0.\n",
    "// Kevin's solution is to take max(0.1, expected_today) to ensure\n",
    "// that lambda > 0. However, `expected_today` is dependent only on input data and is not\n",
    "// part of the model so we can ensure it's > 0 by fixing up the input data of the model.\n",
    "// this is done in `prepareDataForModel`\n",
    "def predictRt(onsetNumbers: List[Long], pdelay: List[Double], failedRunDetection: Boolean = true): (RtModelEstimates, List[Double]) = {\n",
    "    \n",
    "    val data = prepareDataForModel(onsetNumbers, pdelay)\n",
    "    \n",
    "    val (model, rts, serialInterval) = {\n",
    "        val (onset, cum_pdelay) = data.unzip\n",
    "        val serialInterval = Gamma(6.0,1/1.5).latent\n",
    "        val sigma = Normal(0,0.03).latent.abs\n",
    "        val Theta0 = Normal(0.1,0.1).latent\n",
    "        val diffs = Laplace(0,sigma).latentVec(data.size) // Maybe normal would be better\n",
    "        val ThetaT = Vec.from(diffs.toList.scanLeft(Theta0)(_ + _))\n",
    "        val Rts = ThetaT.map(_*serialInterval + 1)\n",
    "        val inferredYesterday = data.take(data.size-1).map { case (o_t, cp_t) => \n",
    "            o_t/cp_t \n",
    "        }.zipWithIndex\n",
    "        val expectedToday = Vec.from(inferredYesterday.zip(cum_pdelay.drop(1))).map { case ((infYest, i), cpd) =>\n",
    "            val lambda = Real(0.1).max(infYest * cpd * (ThetaT(i).exp))\n",
    "            Poisson(lambda)\n",
    "        }\n",
    "        \n",
    "        val obsModel = Model.observe(onset.drop(1), expectedToday)\n",
    "        val trackSerialInterval = Model.track(Set(serialInterval))\n",
    "        (obsModel.merge(trackSerialInterval), Rts, serialInterval)\n",
    "    }\n",
    "    \n",
    "    def detectFailedRun(trace: Trace): (Boolean, Double) = {\n",
    "        // from: https://twitter.com/avibryant/status/1253049509128499201\n",
    "        val stat = trace.diagnostics.map(_.rHat).max\n",
    "        val cond = !failedRunDetection || stat < 1.1\n",
    "        (cond, stat)\n",
    "    }\n",
    "    \n",
    "    val (trace, log) = retry(maxAttempts = 5, isSuccessful = detectFailedRun) {\n",
    "        model.sample(samplerConfig, 2)\n",
    "    }\n",
    "\n",
    "    val rtme = RtModelEstimates(rts = rts, \n",
    "                 rtsEstimates = trace.predict(rts),\n",
    "                 serialInterval = serialInterval,\n",
    "                 serialIntervalEstimates = trace.predict(serialInterval))\n",
    "    (rtme, log)\n",
    "}"
   ]
  },
  {
   "cell_type": "code",
   "execution_count": 18,
   "metadata": {},
   "outputs": [
    {
     "data": {
      "text/plain": [
       "defined \u001b[32mfunction\u001b[39m \u001b[36mmedian\u001b[39m"
      ]
     },
     "execution_count": 18,
     "metadata": {},
     "output_type": "execute_result"
    }
   ],
   "source": [
    "def median[N](seq: Seq[N])(implicit num: Numeric[N]): Double = {\n",
    "    val l = (seq.map { n =>\n",
    "      num.toDouble(n)\n",
    "    }).sorted\n",
    "    val n = l.size\n",
    "    if(n % 2 == 1)\n",
    "        l(n/2)\n",
    "    else\n",
    "        (l(n/2) + l(n/2-1))/2\n",
    "}"
   ]
  },
  {
   "cell_type": "code",
   "execution_count": 19,
   "metadata": {},
   "outputs": [
    {
     "data": {
      "text/plain": [
       "defined \u001b[32mclass\u001b[39m \u001b[36mRtsDistributionStats\u001b[39m\n",
       "defined \u001b[32mfunction\u001b[39m \u001b[36mdistributionStats\u001b[39m"
      ]
     },
     "execution_count": 19,
     "metadata": {},
     "output_type": "execute_result"
    }
   ],
   "source": [
    "case class RtsDistributionStats(means: Seq[(Int, Double)], \n",
    "                                medians: Seq[(Int, Double)],\n",
    "                                hdpis_90: Seq[(Int, (Double, Double))], \n",
    "                                hdpis_50: Seq[(Int, (Double, Double))])\n",
    "def distributionStats(rts: Vec[Real], rtForecasts: List[Seq[Double]]): RtsDistributionStats = {\n",
    "    val means = 0.until(rts.size).map{i => (i,mean(rtForecasts.map(_(i))))}\n",
    "    val medians = 0.until(rts.size).map{i => (i,median(rtForecasts.map(_(i))))}\n",
    "    val hdpis_90 = 0.until(rts.size).map{i => (i,hdpi(rtForecasts.map(_(i)),0.9))}\n",
    "    val hdpis_50 = 0.until(rts.size).map{i => (i,hdpi(rtForecasts.map(_(i)),0.5))}\n",
    "    RtsDistributionStats(means, medians, hdpis_90, hdpis_50)\n",
    "}"
   ]
  },
  {
   "cell_type": "code",
   "execution_count": 20,
   "metadata": {},
   "outputs": [
    {
     "data": {
      "text/plain": [
       "\u001b[36mcountryLogs\u001b[39m: \u001b[32mcollection\u001b[39m.\u001b[32mmutable\u001b[39m.\u001b[32mMap\u001b[39m[\u001b[32mString\u001b[39m, \u001b[32mList\u001b[39m[\u001b[32mDouble\u001b[39m]] = \u001b[33mMap\u001b[39m()\n",
       "defined \u001b[32mfunction\u001b[39m \u001b[36mprocessLogs\u001b[39m"
      ]
     },
     "execution_count": 20,
     "metadata": {},
     "output_type": "execute_result"
    }
   ],
   "source": [
    "val countryLogs = scala.collection.mutable.Map[String, List[Double]]()\n",
    "\n",
    "def processLogs(country: String, logs: List[Double]) = {\n",
    "    countryLogs(country) = logs\n",
    "}"
   ]
  },
  {
   "cell_type": "code",
   "execution_count": 20,
   "metadata": {
    "scrolled": true
   },
   "outputs": [],
   "source": [
    "// {{\n",
    "//     val countryName = \"United_Kingdom\"\n",
    "//     val onsetNumbers = countriesOnsetData.collect {\n",
    "//         case m if m(\"country\") == countryName => m(\"Onset\").toDouble.round\n",
    "//     }\n",
    "//     val RtModelEstimates(rts,estimates,_, _) = time { \n",
    "//         val (res, log) = predictRt(onsetNumbers, pdelay, failedRunDetection = true)\n",
    "//         processLogs(countryName, log)\n",
    "//         res\n",
    "//     }\n",
    "//     val RtsDistributionStats(means, medians, hdpis_90, hdpis_50) = distributionStats(rts, estimates)\n",
    "//     // show(\"t\", \"Rt\", line(means), shade(hdpis_50))\n",
    "//     show(\"t\", \"Rt\", line(means), shade(hdpis_90))\n",
    "// }}"
   ]
  },
  {
   "cell_type": "code",
   "execution_count": 23,
   "metadata": {
    "scrolled": true
   },
   "outputs": [
    {
     "data": {
      "text/plain": [
       "\u001b[36mcountriesToPredict\u001b[39m: \u001b[32mSeq\u001b[39m[\u001b[32mString\u001b[39m] = \u001b[33mList\u001b[39m(\u001b[32m\"Poland\"\u001b[39m, \u001b[32m\"France\"\u001b[39m, \u001b[32m\"Italy\"\u001b[39m)"
      ]
     },
     "execution_count": 23,
     "metadata": {},
     "output_type": "execute_result"
    }
   ],
   "source": [
    "val countriesToPredict = Seq(\"Poland\", \"France\", \"Italy\") // Smaller set\n",
    "// val countriesToPredict = countriesOnsetData.map(_(\"country\")).toSet  // Full set"
   ]
  },
  {
   "cell_type": "code",
   "execution_count": 24,
   "metadata": {},
   "outputs": [
    {
     "data": {
      "text/html": [
       "<b>Chain 1 Complete</b>: <div>Iteration: 1000 (37ms)</div> <div>Acceptance rate: 0.71</div> <div>E-BFMI: 0.58</div> <div>Step size: 0.01</div> <div>Total gradient evaluations: 2e+05 (175us)</div> <div>Total time:  0: 1:35</div>"
      ]
     },
     "metadata": {},
     "output_type": "display_data"
    },
    {
     "data": {
      "text/html": [
       "<b>Chain 1 Complete</b>: <div>Iteration: 1000 (106ms)</div> <div>Acceptance rate: 0.86</div> <div>E-BFMI: 0.72</div> <div>Step size: 0.005</div> <div>Total gradient evaluations: 2e+05 (525us)</div> <div>Total time:  0: 2:44</div>"
      ]
     },
     "metadata": {},
     "output_type": "display_data"
    },
    {
     "data": {
      "text/html": [
       "<b>Chain 1 Complete</b>: <div>Iteration: 1000 (65ms)</div> <div>Acceptance rate: 0.91</div> <div>E-BFMI: 0.80</div> <div>Step size: 0.003</div> <div>Total gradient evaluations: 2e+05 (311us)</div> <div>Total time:  0: 3:23</div>"
      ]
     },
     "metadata": {},
     "output_type": "display_data"
    },
    {
     "data": {
      "text/html": [
       "<b>Chain 2 Complete</b>: <div>Iteration: 1000 (36ms)</div> <div>Acceptance rate: 0.84</div> <div>E-BFMI: 0.71</div> <div>Step size: 0.01</div> <div>Total gradient evaluations: 2e+05 (181us)</div> <div>Total time:  0: 1:34</div>"
      ]
     },
     "metadata": {},
     "output_type": "display_data"
    },
    {
     "data": {
      "text/html": [
       "<b>Chain 2 Complete</b>: <div>Iteration: 1000 (61ms)</div> <div>Acceptance rate: 0.85</div> <div>E-BFMI: 0.63</div> <div>Step size: 0.005</div> <div>Total gradient evaluations: 2e+05 (299us)</div> <div>Total time:  0: 2:34</div>"
      ]
     },
     "metadata": {},
     "output_type": "display_data"
    },
    {
     "name": "stdout",
     "output_type": "stream",
     "text": [
      "WARN: Attempt[1] failed. Retrying...\n"
     ]
    },
    {
     "data": {
      "text/html": [
       "<b>Chain 1 Complete</b>: <div>Iteration: 1000 (62ms)</div> <div>Acceptance rate: 0.00</div> <div>E-BFMI: 2.04</div> <div>Step size: 0.01</div> <div>Total gradient evaluations: 2e+05 (307us)</div> <div>Total time:  0: 1:54</div>"
      ]
     },
     "metadata": {},
     "output_type": "display_data"
    },
    {
     "data": {
      "text/html": [
       "<b>Chain 2 Complete</b>: <div>Iteration: 1000 (107ms)</div> <div>Acceptance rate: 0.74</div> <div>E-BFMI: 1.03</div> <div>Step size: 0.004</div> <div>Total gradient evaluations: 2e+05 (533us)</div> <div>Total time:  0: 3:21</div>"
      ]
     },
     "metadata": {},
     "output_type": "display_data"
    },
    {
     "data": {
      "text/html": [
       "<b>Chain 2 Complete</b>: <div>Iteration: 1000 (36ms)</div> <div>Acceptance rate: 0.83</div> <div>E-BFMI: 0.74</div> <div>Step size: 0.01</div> <div>Total gradient evaluations: 2e+05 (173us)</div> <div>Total time:  0: 1:40</div>"
      ]
     },
     "metadata": {},
     "output_type": "display_data"
    },
    {
     "name": "stdout",
     "output_type": "stream",
     "text": [
      "WARN: Attempt[1] failed. Retrying...\n"
     ]
    },
    {
     "data": {
      "text/html": [
       "<b>Chain 1 Complete</b>: <div>Iteration: 1000 (103ms)</div> <div>Acceptance rate: 0.87</div> <div>E-BFMI: 0.69</div> <div>Step size: 0.005</div> <div>Total gradient evaluations: 2e+05 (512us)</div> <div>Total time:  0: 2:54</div>"
      ]
     },
     "metadata": {},
     "output_type": "display_data"
    },
    {
     "name": "stdout",
     "output_type": "stream",
     "text": [
      "WARN: Attempt[2] failed. Retrying...\n"
     ]
    },
    {
     "data": {
      "text/html": [
       "<b>Chain 1 Complete</b>: <div>Iteration: 1000 (63ms)</div> <div>Acceptance rate: 0.86</div> <div>E-BFMI: 0.76</div> <div>Step size: 0.01</div> <div>Total gradient evaluations: 2e+05 (312us)</div> <div>Total time:  0: 1:19</div>"
      ]
     },
     "metadata": {},
     "output_type": "display_data"
    },
    {
     "name": "stdout",
     "output_type": "stream",
     "text": [
      "WARN: Attempt[1] failed. Retrying...\n"
     ]
    },
    {
     "data": {
      "text/html": [
       "<b>Chain 1 Complete</b>: <div>Iteration: 1000 (64ms)</div> <div>Acceptance rate: 0.93</div> <div>E-BFMI: 0.80</div> <div>Step size: 0.004</div> <div>Total gradient evaluations: 2e+05 (321us)</div> <div>Total time:  0: 2:34</div>"
      ]
     },
     "metadata": {},
     "output_type": "display_data"
    },
    {
     "data": {
      "text/html": [
       "<b>Chain 2 Complete</b>: <div>Iteration: 1000 (62ms)</div> <div>Acceptance rate: 0.82</div> <div>E-BFMI: 0.68</div> <div>Step size: 0.01</div> <div>Total gradient evaluations: 2e+05 (311us)</div> <div>Total time:  0: 2: 5</div>"
      ]
     },
     "metadata": {},
     "output_type": "display_data"
    },
    {
     "data": {
      "text/html": [
       "<b>Chain 2 Complete</b>: <div>Iteration: 1000 (61ms)</div> <div>Acceptance rate: 0.86</div> <div>E-BFMI: 0.72</div> <div>Step size: 0.005</div> <div>Total gradient evaluations: 2e+05 (298us)</div> <div>Total time:  0: 2:52</div>"
      ]
     },
     "metadata": {},
     "output_type": "display_data"
    },
    {
     "data": {
      "text/html": [
       "<b>Chain 2 Complete</b>: <div>Iteration: 1000 (106ms)</div> <div>Acceptance rate: 0.81</div> <div>E-BFMI: 0.78</div> <div>Step size: 0.004</div> <div>Total gradient evaluations: 2e+05 (527us)</div> <div>Total time:  0: 2:59</div>"
      ]
     },
     "metadata": {},
     "output_type": "display_data"
    },
    {
     "name": "stdout",
     "output_type": "stream",
     "text": [
      "WARN: Attempt[3] failed. Retrying...\n"
     ]
    },
    {
     "data": {
      "text/html": [
       "<b>Chain 1 Complete</b>: <div>Iteration: 1000 (63ms)</div> <div>Acceptance rate: 0.85</div> <div>E-BFMI: 0.67</div> <div>Step size: 0.01</div> <div>Total gradient evaluations: 2e+05 (310us)</div> <div>Total time:  0: 2: 6</div>"
      ]
     },
     "metadata": {},
     "output_type": "display_data"
    },
    {
     "name": "stdout",
     "output_type": "stream",
     "text": [
      "WARN: Attempt[2] failed. Retrying...\n"
     ]
    },
    {
     "data": {
      "text/html": [
       "<b>Chain 1 Complete</b>: <div>Iteration: 1000 (105ms)</div> <div>Acceptance rate: 0.97</div> <div>E-BFMI: 0.81</div> <div>Step size: 0.003</div> <div>Total gradient evaluations: 2e+05 (521us)</div> <div>Total time:  0: 2: 8</div>"
      ]
     },
     "metadata": {},
     "output_type": "display_data"
    },
    {
     "data": {
      "text/html": [
       "<b>Chain 2 Complete</b>: <div>Iteration: 1000 (36ms)</div> <div>Acceptance rate: 0.82</div> <div>E-BFMI: 0.64</div> <div>Step size: 0.01</div> <div>Total gradient evaluations: 2e+05 (182us)</div> <div>Total time:  0: 1:31</div>"
      ]
     },
     "metadata": {},
     "output_type": "display_data"
    },
    {
     "name": "stdout",
     "output_type": "stream",
     "text": [
      "WARN: Attempt[2] failed. Retrying...\n"
     ]
    },
    {
     "data": {
      "text/html": [
       "<b>Chain 1 Complete</b>: <div>Iteration: 1000 (63ms)</div> <div>Acceptance rate: 0.89</div> <div>E-BFMI: 0.63</div> <div>Step size: 0.004</div> <div>Total gradient evaluations: 2e+05 (310us)</div> <div>Total time:  0: 2:44</div>"
      ]
     },
     "metadata": {},
     "output_type": "display_data"
    },
    {
     "data": {
      "text/html": [
       "<b>Chain 2 Complete</b>: <div>Iteration: 1000 (60ms)</div> <div>Acceptance rate: 0.93</div> <div>E-BFMI: 0.74</div> <div>Step size: 0.005</div> <div>Total gradient evaluations: 2e+05 (298us)</div> <div>Total time:  0: 2:17</div>"
      ]
     },
     "metadata": {},
     "output_type": "display_data"
    },
    {
     "name": "stdout",
     "output_type": "stream",
     "text": [
      "Success in [4] iteration.\n",
      "Poland [done]\n"
     ]
    },
    {
     "data": {
      "text/html": [
       "<b>Chain 2 Complete</b>: <div>Iteration: 1000 (63ms)</div> <div>Acceptance rate: 0.85</div> <div>E-BFMI: 0.60</div> <div>Step size: 0.003</div> <div>Total gradient evaluations: 2e+05 (319us)</div> <div>Total time:  0: 2: 7</div>"
      ]
     },
     "metadata": {},
     "output_type": "display_data"
    },
    {
     "name": "stdout",
     "output_type": "stream",
     "text": [
      "WARN: Attempt[3] failed. Retrying...\n"
     ]
    },
    {
     "data": {
      "text/html": [
       "<b>Chain 1 Complete</b>: <div>Iteration: 1000 (60ms)</div> <div>Acceptance rate: 0.78</div> <div>E-BFMI: 0.69</div> <div>Step size: 0.005</div> <div>Total gradient evaluations: 2e+05 (299us)</div> <div>Total time:  0: 2: 1</div>"
      ]
     },
     "metadata": {},
     "output_type": "display_data"
    },
    {
     "name": "stdout",
     "output_type": "stream",
     "text": [
      "WARN: Attempt[3] failed. Retrying...\n"
     ]
    },
    {
     "data": {
      "text/html": [
       "<b>Chain 1 Complete</b>: <div>Iteration: 1000 (63ms)</div> <div>Acceptance rate: 0.63</div> <div>E-BFMI: 0.80</div> <div>Step size: 0.004</div> <div>Total gradient evaluations: 2e+05 (311us)</div> <div>Total time:  0: 2: 7</div>"
      ]
     },
     "metadata": {},
     "output_type": "display_data"
    },
    {
     "data": {
      "text/html": [
       "<b>Chain 2 Complete</b>: <div>Iteration: 1000 (60ms)</div> <div>Acceptance rate: 0.86</div> <div>E-BFMI: 0.63</div> <div>Step size: 0.005</div> <div>Total gradient evaluations: 2e+05 (299us)</div> <div>Total time:  0: 2: 2</div>"
      ]
     },
     "metadata": {},
     "output_type": "display_data"
    },
    {
     "data": {
      "text/html": [
       "<b>Chain 2 Complete</b>: <div>Iteration: 1000 (63ms)</div> <div>Acceptance rate: 0.91</div> <div>E-BFMI: 0.74</div> <div>Step size: 0.003</div> <div>Total gradient evaluations: 2e+05 (316us)</div> <div>Total time:  0: 2: 6</div>"
      ]
     },
     "metadata": {},
     "output_type": "display_data"
    },
    {
     "name": "stdout",
     "output_type": "stream",
     "text": [
      "WARN: Attempt[4] failed. Retrying...\n"
     ]
    },
    {
     "data": {
      "text/html": [
       "<b>Chain 1 Complete</b>: <div>Iteration: 1000 (60ms)</div> <div>Acceptance rate: 0.93</div> <div>E-BFMI: 0.72</div> <div>Step size: 0.005</div> <div>Total gradient evaluations: 2e+05 (304us)</div> <div>Total time:  0: 2: 1</div>"
      ]
     },
     "metadata": {},
     "output_type": "display_data"
    },
    {
     "name": "stdout",
     "output_type": "stream",
     "text": [
      "WARN: Attempt[4] failed. Retrying...\n"
     ]
    },
    {
     "data": {
      "text/html": [
       "<b>Chain 1 Complete</b>: <div>Iteration: 1000 (63ms)</div> <div>Acceptance rate: 0.90</div> <div>E-BFMI: 0.67</div> <div>Step size: 0.003</div> <div>Total gradient evaluations: 2e+05 (318us)</div> <div>Total time:  0: 2: 7</div>"
      ]
     },
     "metadata": {},
     "output_type": "display_data"
    },
    {
     "data": {
      "text/html": [
       "<b>Chain 2 Complete</b>: <div>Iteration: 1000 (60ms)</div> <div>Acceptance rate: 0.43</div> <div>E-BFMI: 0.89</div> <div>Step size: 0.005</div> <div>Total gradient evaluations: 2e+05 (298us)</div> <div>Total time:  0: 2: 1</div>"
      ]
     },
     "metadata": {},
     "output_type": "display_data"
    },
    {
     "data": {
      "text/html": [
       "<b>Chain 2 Complete</b>: <div>Iteration: 1000 (63ms)</div> <div>Acceptance rate: 0.00</div> <div>E-BFMI: 2.11</div> <div>Step size: 0.004</div> <div>Total gradient evaluations: 2e+05 (314us)</div> <div>Total time:  0: 2: 7</div>"
      ]
     },
     "metadata": {},
     "output_type": "display_data"
    },
    {
     "name": "stdout",
     "output_type": "stream",
     "text": [
      "WARN: Attempt[5] failed. Retrying...\n",
      "France [done]\n",
      "WARN: Attempt[5] failed. Retrying...\n",
      "Italy [done]\n",
      "Elapsed time: 1547428 ms\n"
     ]
    },
    {
     "data": {
      "text/plain": [
       "\u001b[36mcountryStats\u001b[39m: \u001b[32mMap\u001b[39m[\u001b[32mString\u001b[39m, \u001b[32mEither\u001b[39m[\u001b[32mThrowable\u001b[39m, \u001b[32mRtsDistributionStats\u001b[39m]] = \u001b[33mMap\u001b[39m(\n",
       "  \u001b[32m\"Poland\"\u001b[39m -> \u001b[33mRight\u001b[39m(\n",
       "    \u001b[33mRtsDistributionStats\u001b[39m(\n",
       "      \u001b[33mVector\u001b[39m(\n",
       "        (\u001b[32m0\u001b[39m, \u001b[32m1.4034506135755611\u001b[39m),\n",
       "        (\u001b[32m1\u001b[39m, \u001b[32m1.404869028418104\u001b[39m),\n",
       "        (\u001b[32m2\u001b[39m, \u001b[32m1.4068345800842006\u001b[39m),\n",
       "        (\u001b[32m3\u001b[39m, \u001b[32m1.4087222152736043\u001b[39m),\n",
       "        (\u001b[32m4\u001b[39m, \u001b[32m1.4103203604484116\u001b[39m),\n",
       "        (\u001b[32m5\u001b[39m, \u001b[32m1.4119883581324835\u001b[39m),\n",
       "        (\u001b[32m6\u001b[39m, \u001b[32m1.4119463341823315\u001b[39m),\n",
       "        (\u001b[32m7\u001b[39m, \u001b[32m1.41578211399011\u001b[39m),\n",
       "        (\u001b[32m8\u001b[39m, \u001b[32m1.4144971736658811\u001b[39m),\n",
       "        (\u001b[32m9\u001b[39m, \u001b[32m1.4136768420527843\u001b[39m),\n",
       "        (\u001b[32m10\u001b[39m, \u001b[32m1.415564524931392\u001b[39m),\n",
       "        (\u001b[32m11\u001b[39m, \u001b[32m1.4115189009244764\u001b[39m),\n",
       "        (\u001b[32m12\u001b[39m, \u001b[32m1.4135253622739314\u001b[39m),\n",
       "        (\u001b[32m13\u001b[39m, \u001b[32m1.4143011255836273\u001b[39m),\n",
       "        (\u001b[32m14\u001b[39m, \u001b[32m1.4137403800999546\u001b[39m),\n",
       "        (\u001b[32m15\u001b[39m, \u001b[32m1.4135784502589737\u001b[39m),\n",
       "        (\u001b[32m16\u001b[39m, \u001b[32m1.4117702570730573\u001b[39m),\n",
       "        (\u001b[32m17\u001b[39m, \u001b[32m1.4114056630105576\u001b[39m),\n",
       "        (\u001b[32m18\u001b[39m, \u001b[32m1.4094054466692878\u001b[39m),\n",
       "        (\u001b[32m19\u001b[39m, \u001b[32m1.4001609133627237\u001b[39m),\n",
       "        (\u001b[32m20\u001b[39m, \u001b[32m1.394347161529449\u001b[39m),\n",
       "        (\u001b[32m21\u001b[39m, \u001b[32m1.3862139875797632\u001b[39m),\n",
       "        (\u001b[32m22\u001b[39m, \u001b[32m1.3782300899318585\u001b[39m),\n",
       "        (\u001b[32m23\u001b[39m, \u001b[32m1.37088027307046\u001b[39m),\n",
       "        (\u001b[32m24\u001b[39m, \u001b[32m1.3632097480207939\u001b[39m),\n",
       "        (\u001b[32m25\u001b[39m, \u001b[32m1.3546322325307258\u001b[39m),\n",
       "        (\u001b[32m26\u001b[39m, \u001b[32m1.3469836453872956\u001b[39m),\n",
       "        (\u001b[32m27\u001b[39m, \u001b[32m1.3357655717014723\u001b[39m),\n",
       "        (\u001b[32m28\u001b[39m, \u001b[32m1.3221702584276858\u001b[39m),\n",
       "        (\u001b[32m29\u001b[39m, \u001b[32m1.3137029841609413\u001b[39m),\n",
       "        (\u001b[32m30\u001b[39m, \u001b[32m1.302729167864066\u001b[39m),\n",
       "        (\u001b[32m31\u001b[39m, \u001b[32m1.2923464888339258\u001b[39m),\n",
       "        (\u001b[32m32\u001b[39m, \u001b[32m1.279556704387627\u001b[39m),\n",
       "        (\u001b[32m33\u001b[39m, \u001b[32m1.2661051538145653\u001b[39m),\n",
       "        (\u001b[32m34\u001b[39m, \u001b[32m1.2507988619468793\u001b[39m),\n",
       "..."
      ]
     },
     "execution_count": 24,
     "metadata": {},
     "output_type": "execute_result"
    }
   ],
   "source": [
    "val countryStats: Map[String, Either[Throwable, RtsDistributionStats]] = {\n",
    "    assert(countriesToPredict.toSet.subsetOf(countriesOnsetData.map(_(\"country\")).toSet))\n",
    "    val allStats = time {\n",
    "        countriesToPredict.par.map { countryName =>\n",
    "            val caseNumbers = countriesOnsetData.collect {\n",
    "                case m if m(\"country\") == countryName => m(\"Onset\").toDouble.round\n",
    "            }\n",
    "            val possiblyFailed: Try[RtsDistributionStats] = Try { \n",
    "                val (rtme, logs) = predictRt(caseNumbers, pdelay, failedRunDetection = true)\n",
    "                processLogs(countryName, logs)\n",
    "                val RtModelEstimates(rts,estimates, serialInterval, serialEstimates) = rtme\n",
    "                val stats@RtsDistributionStats(means, medians, hdpis_90, hdpis_50) = distributionStats(rts, estimates)\n",
    "                println(s\"$countryName [done]\")\n",
    "                stats\n",
    "            }\n",
    "            countryName -> possiblyFailed.toEither\n",
    "        }.seq\n",
    "    }\n",
    "    allStats.toMap\n",
    "}"
   ]
  },
  {
   "cell_type": "code",
   "execution_count": 25,
   "metadata": {},
   "outputs": [
    {
     "data": {
      "text/plain": [
       "\u001b[36mres24\u001b[39m: \u001b[32mMap\u001b[39m[\u001b[32mString\u001b[39m, \u001b[32mEither\u001b[39m[\u001b[32mThrowable\u001b[39m, \u001b[32mRtsDistributionStats\u001b[39m]] = \u001b[33mMap\u001b[39m(\n",
       "  \u001b[32m\"Poland\"\u001b[39m -> \u001b[33mRight\u001b[39m(\n",
       "    \u001b[33mRtsDistributionStats\u001b[39m(\n",
       "      \u001b[33mVector\u001b[39m(\n",
       "        (\u001b[32m0\u001b[39m, \u001b[32m1.4034506135755611\u001b[39m),\n",
       "        (\u001b[32m1\u001b[39m, \u001b[32m1.404869028418104\u001b[39m),\n",
       "        (\u001b[32m2\u001b[39m, \u001b[32m1.4068345800842006\u001b[39m),\n",
       "        (\u001b[32m3\u001b[39m, \u001b[32m1.4087222152736043\u001b[39m),\n",
       "        (\u001b[32m4\u001b[39m, \u001b[32m1.4103203604484116\u001b[39m),\n",
       "        (\u001b[32m5\u001b[39m, \u001b[32m1.4119883581324835\u001b[39m),\n",
       "        (\u001b[32m6\u001b[39m, \u001b[32m1.4119463341823315\u001b[39m),\n",
       "        (\u001b[32m7\u001b[39m, \u001b[32m1.41578211399011\u001b[39m),\n",
       "        (\u001b[32m8\u001b[39m, \u001b[32m1.4144971736658811\u001b[39m),\n",
       "        (\u001b[32m9\u001b[39m, \u001b[32m1.4136768420527843\u001b[39m),\n",
       "        (\u001b[32m10\u001b[39m, \u001b[32m1.415564524931392\u001b[39m),\n",
       "        (\u001b[32m11\u001b[39m, \u001b[32m1.4115189009244764\u001b[39m),\n",
       "        (\u001b[32m12\u001b[39m, \u001b[32m1.4135253622739314\u001b[39m),\n",
       "        (\u001b[32m13\u001b[39m, \u001b[32m1.4143011255836273\u001b[39m),\n",
       "        (\u001b[32m14\u001b[39m, \u001b[32m1.4137403800999546\u001b[39m),\n",
       "        (\u001b[32m15\u001b[39m, \u001b[32m1.4135784502589737\u001b[39m),\n",
       "        (\u001b[32m16\u001b[39m, \u001b[32m1.4117702570730573\u001b[39m),\n",
       "        (\u001b[32m17\u001b[39m, \u001b[32m1.4114056630105576\u001b[39m),\n",
       "        (\u001b[32m18\u001b[39m, \u001b[32m1.4094054466692878\u001b[39m),\n",
       "        (\u001b[32m19\u001b[39m, \u001b[32m1.4001609133627237\u001b[39m),\n",
       "        (\u001b[32m20\u001b[39m, \u001b[32m1.394347161529449\u001b[39m),\n",
       "        (\u001b[32m21\u001b[39m, \u001b[32m1.3862139875797632\u001b[39m),\n",
       "        (\u001b[32m22\u001b[39m, \u001b[32m1.3782300899318585\u001b[39m),\n",
       "        (\u001b[32m23\u001b[39m, \u001b[32m1.37088027307046\u001b[39m),\n",
       "        (\u001b[32m24\u001b[39m, \u001b[32m1.3632097480207939\u001b[39m),\n",
       "        (\u001b[32m25\u001b[39m, \u001b[32m1.3546322325307258\u001b[39m),\n",
       "        (\u001b[32m26\u001b[39m, \u001b[32m1.3469836453872956\u001b[39m),\n",
       "        (\u001b[32m27\u001b[39m, \u001b[32m1.3357655717014723\u001b[39m),\n",
       "        (\u001b[32m28\u001b[39m, \u001b[32m1.3221702584276858\u001b[39m),\n",
       "        (\u001b[32m29\u001b[39m, \u001b[32m1.3137029841609413\u001b[39m),\n",
       "        (\u001b[32m30\u001b[39m, \u001b[32m1.302729167864066\u001b[39m),\n",
       "        (\u001b[32m31\u001b[39m, \u001b[32m1.2923464888339258\u001b[39m),\n",
       "        (\u001b[32m32\u001b[39m, \u001b[32m1.279556704387627\u001b[39m),\n",
       "        (\u001b[32m33\u001b[39m, \u001b[32m1.2661051538145653\u001b[39m),\n",
       "        (\u001b[32m34\u001b[39m, \u001b[32m1.2507988619468793\u001b[39m),\n",
       "..."
      ]
     },
     "execution_count": 25,
     "metadata": {},
     "output_type": "execute_result"
    }
   ],
   "source": [
    "countryStats"
   ]
  },
  {
   "cell_type": "code",
   "execution_count": 25,
   "metadata": {
    "scrolled": true
   },
   "outputs": [],
   "source": [
    "// val failedToConverge = countryStats collect {\n",
    "//     case (countryName, res) if res.isLeft => countryName\n",
    "// } "
   ]
  },
  {
   "cell_type": "code",
   "execution_count": 25,
   "metadata": {},
   "outputs": [],
   "source": [
    "// val countriesTriedOneMoreTime = failedToConverge.toSeq map { countryName =>\n",
    "//     println(countryName)\n",
    "//     val onsetNumbers = countriesOnsetData.collect {\n",
    "//         case m if m(\"country\") == countryName => m(\"Onset\").toDouble.round\n",
    "//     }\n",
    "//     val RtModelEstimates(rts, estimates, serialInterval, serialEstimates) = time { \n",
    "//         val (res, logs) = predictRt(onsetNumbers, pdelay, failedRunDetection = false)\n",
    "//         processLogs(countryName, logs)\n",
    "//         res\n",
    "//     }\n",
    "//     countryName -> distributionStats(rts, estimates)\n",
    "// }"
   ]
  },
  {
   "cell_type": "code",
   "execution_count": 26,
   "metadata": {},
   "outputs": [
    {
     "data": {
      "text/plain": [
       "\u001b[36mfinalCountryStats\u001b[39m: \u001b[32mMap\u001b[39m[\u001b[32mString\u001b[39m, \u001b[32mRtsDistributionStats\u001b[39m] = \u001b[33mMap\u001b[39m(\n",
       "  \u001b[32m\"Poland\"\u001b[39m -> \u001b[33mRtsDistributionStats\u001b[39m(\n",
       "    \u001b[33mVector\u001b[39m(\n",
       "      (\u001b[32m0\u001b[39m, \u001b[32m1.4034506135755611\u001b[39m),\n",
       "      (\u001b[32m1\u001b[39m, \u001b[32m1.404869028418104\u001b[39m),\n",
       "      (\u001b[32m2\u001b[39m, \u001b[32m1.4068345800842006\u001b[39m),\n",
       "      (\u001b[32m3\u001b[39m, \u001b[32m1.4087222152736043\u001b[39m),\n",
       "      (\u001b[32m4\u001b[39m, \u001b[32m1.4103203604484116\u001b[39m),\n",
       "      (\u001b[32m5\u001b[39m, \u001b[32m1.4119883581324835\u001b[39m),\n",
       "      (\u001b[32m6\u001b[39m, \u001b[32m1.4119463341823315\u001b[39m),\n",
       "      (\u001b[32m7\u001b[39m, \u001b[32m1.41578211399011\u001b[39m),\n",
       "      (\u001b[32m8\u001b[39m, \u001b[32m1.4144971736658811\u001b[39m),\n",
       "      (\u001b[32m9\u001b[39m, \u001b[32m1.4136768420527843\u001b[39m),\n",
       "      (\u001b[32m10\u001b[39m, \u001b[32m1.415564524931392\u001b[39m),\n",
       "      (\u001b[32m11\u001b[39m, \u001b[32m1.4115189009244764\u001b[39m),\n",
       "      (\u001b[32m12\u001b[39m, \u001b[32m1.4135253622739314\u001b[39m),\n",
       "      (\u001b[32m13\u001b[39m, \u001b[32m1.4143011255836273\u001b[39m),\n",
       "      (\u001b[32m14\u001b[39m, \u001b[32m1.4137403800999546\u001b[39m),\n",
       "      (\u001b[32m15\u001b[39m, \u001b[32m1.4135784502589737\u001b[39m),\n",
       "      (\u001b[32m16\u001b[39m, \u001b[32m1.4117702570730573\u001b[39m),\n",
       "      (\u001b[32m17\u001b[39m, \u001b[32m1.4114056630105576\u001b[39m),\n",
       "      (\u001b[32m18\u001b[39m, \u001b[32m1.4094054466692878\u001b[39m),\n",
       "      (\u001b[32m19\u001b[39m, \u001b[32m1.4001609133627237\u001b[39m),\n",
       "      (\u001b[32m20\u001b[39m, \u001b[32m1.394347161529449\u001b[39m),\n",
       "      (\u001b[32m21\u001b[39m, \u001b[32m1.3862139875797632\u001b[39m),\n",
       "      (\u001b[32m22\u001b[39m, \u001b[32m1.3782300899318585\u001b[39m),\n",
       "      (\u001b[32m23\u001b[39m, \u001b[32m1.37088027307046\u001b[39m),\n",
       "      (\u001b[32m24\u001b[39m, \u001b[32m1.3632097480207939\u001b[39m),\n",
       "      (\u001b[32m25\u001b[39m, \u001b[32m1.3546322325307258\u001b[39m),\n",
       "      (\u001b[32m26\u001b[39m, \u001b[32m1.3469836453872956\u001b[39m),\n",
       "      (\u001b[32m27\u001b[39m, \u001b[32m1.3357655717014723\u001b[39m),\n",
       "      (\u001b[32m28\u001b[39m, \u001b[32m1.3221702584276858\u001b[39m),\n",
       "      (\u001b[32m29\u001b[39m, \u001b[32m1.3137029841609413\u001b[39m),\n",
       "      (\u001b[32m30\u001b[39m, \u001b[32m1.302729167864066\u001b[39m),\n",
       "      (\u001b[32m31\u001b[39m, \u001b[32m1.2923464888339258\u001b[39m),\n",
       "      (\u001b[32m32\u001b[39m, \u001b[32m1.279556704387627\u001b[39m),\n",
       "      (\u001b[32m33\u001b[39m, \u001b[32m1.2661051538145653\u001b[39m),\n",
       "      (\u001b[32m34\u001b[39m, \u001b[32m1.2507988619468793\u001b[39m),\n",
       "      (\u001b[32m35\u001b[39m, \u001b[32m1.2361877490277362\u001b[39m),\n",
       "..."
      ]
     },
     "execution_count": 26,
     "metadata": {},
     "output_type": "execute_result"
    }
   ],
   "source": [
    "val finalCountryStats = (countryStats collect {\n",
    "    case (countryName, Right(stats)) => countryName -> stats\n",
    "})// ++ countriesTriedOneMoreTime"
   ]
  },
  {
   "cell_type": "code",
   "execution_count": 27,
   "metadata": {},
   "outputs": [
    {
     "data": {
      "text/plain": [
       "\u001b[36mcountryStats\u001b[39m: \u001b[32mMap\u001b[39m[\u001b[32mString\u001b[39m, \u001b[32mRtsDistributionStats\u001b[39m] = \u001b[33mMap\u001b[39m(\n",
       "  \u001b[32m\"Poland\"\u001b[39m -> \u001b[33mRtsDistributionStats\u001b[39m(\n",
       "    \u001b[33mVector\u001b[39m(\n",
       "      (\u001b[32m0\u001b[39m, \u001b[32m1.4034506135755611\u001b[39m),\n",
       "      (\u001b[32m1\u001b[39m, \u001b[32m1.404869028418104\u001b[39m),\n",
       "      (\u001b[32m2\u001b[39m, \u001b[32m1.4068345800842006\u001b[39m),\n",
       "      (\u001b[32m3\u001b[39m, \u001b[32m1.4087222152736043\u001b[39m),\n",
       "      (\u001b[32m4\u001b[39m, \u001b[32m1.4103203604484116\u001b[39m),\n",
       "      (\u001b[32m5\u001b[39m, \u001b[32m1.4119883581324835\u001b[39m),\n",
       "      (\u001b[32m6\u001b[39m, \u001b[32m1.4119463341823315\u001b[39m),\n",
       "      (\u001b[32m7\u001b[39m, \u001b[32m1.41578211399011\u001b[39m),\n",
       "      (\u001b[32m8\u001b[39m, \u001b[32m1.4144971736658811\u001b[39m),\n",
       "      (\u001b[32m9\u001b[39m, \u001b[32m1.4136768420527843\u001b[39m),\n",
       "      (\u001b[32m10\u001b[39m, \u001b[32m1.415564524931392\u001b[39m),\n",
       "      (\u001b[32m11\u001b[39m, \u001b[32m1.4115189009244764\u001b[39m),\n",
       "      (\u001b[32m12\u001b[39m, \u001b[32m1.4135253622739314\u001b[39m),\n",
       "      (\u001b[32m13\u001b[39m, \u001b[32m1.4143011255836273\u001b[39m),\n",
       "      (\u001b[32m14\u001b[39m, \u001b[32m1.4137403800999546\u001b[39m),\n",
       "      (\u001b[32m15\u001b[39m, \u001b[32m1.4135784502589737\u001b[39m),\n",
       "      (\u001b[32m16\u001b[39m, \u001b[32m1.4117702570730573\u001b[39m),\n",
       "      (\u001b[32m17\u001b[39m, \u001b[32m1.4114056630105576\u001b[39m),\n",
       "      (\u001b[32m18\u001b[39m, \u001b[32m1.4094054466692878\u001b[39m),\n",
       "      (\u001b[32m19\u001b[39m, \u001b[32m1.4001609133627237\u001b[39m),\n",
       "      (\u001b[32m20\u001b[39m, \u001b[32m1.394347161529449\u001b[39m),\n",
       "      (\u001b[32m21\u001b[39m, \u001b[32m1.3862139875797632\u001b[39m),\n",
       "      (\u001b[32m22\u001b[39m, \u001b[32m1.3782300899318585\u001b[39m),\n",
       "      (\u001b[32m23\u001b[39m, \u001b[32m1.37088027307046\u001b[39m),\n",
       "      (\u001b[32m24\u001b[39m, \u001b[32m1.3632097480207939\u001b[39m),\n",
       "      (\u001b[32m25\u001b[39m, \u001b[32m1.3546322325307258\u001b[39m),\n",
       "      (\u001b[32m26\u001b[39m, \u001b[32m1.3469836453872956\u001b[39m),\n",
       "      (\u001b[32m27\u001b[39m, \u001b[32m1.3357655717014723\u001b[39m),\n",
       "      (\u001b[32m28\u001b[39m, \u001b[32m1.3221702584276858\u001b[39m),\n",
       "      (\u001b[32m29\u001b[39m, \u001b[32m1.3137029841609413\u001b[39m),\n",
       "      (\u001b[32m30\u001b[39m, \u001b[32m1.302729167864066\u001b[39m),\n",
       "      (\u001b[32m31\u001b[39m, \u001b[32m1.2923464888339258\u001b[39m),\n",
       "      (\u001b[32m32\u001b[39m, \u001b[32m1.279556704387627\u001b[39m),\n",
       "      (\u001b[32m33\u001b[39m, \u001b[32m1.2661051538145653\u001b[39m),\n",
       "      (\u001b[32m34\u001b[39m, \u001b[32m1.2507988619468793\u001b[39m),\n",
       "      (\u001b[32m35\u001b[39m, \u001b[32m1.2361877490277362\u001b[39m),\n",
       "..."
      ]
     },
     "execution_count": 27,
     "metadata": {},
     "output_type": "execute_result"
    }
   ],
   "source": [
    "// override the previous variable so the rest of the notebook works fine\n",
    "val countryStats = finalCountryStats"
   ]
  },
  {
   "cell_type": "code",
   "execution_count": 29,
   "metadata": {
    "scrolled": false
   },
   "outputs": [
    {
     "data": {
      "image/png": "[encoded data removed]"
     },
     "metadata": {
      "height": "1600",
      "width": "1636"
     },
     "output_type": "display_data"
    }
   ],
   "source": [
    "{{\n",
    "    val RtsDistributionStats(means, medians, hdpis_90, hdpis_50) = countryStats(\"Poland\")\n",
    "    show(\"t\", \"Rt\", line(medians), shade(hdpis_50))\n",
    "}}"
   ]
  },
  {
   "cell_type": "markdown",
   "metadata": {},
   "source": [
    "## Saving the results"
   ]
  },
  {
   "cell_type": "code",
   "execution_count": 30,
   "metadata": {},
   "outputs": [
    {
     "data": {
      "text/plain": [
       "defined \u001b[32mfunction\u001b[39m \u001b[36mdatesForCountry\u001b[39m"
      ]
     },
     "execution_count": 30,
     "metadata": {},
     "output_type": "execute_result"
    }
   ],
   "source": [
    "def datesForCountry(country: String) = {\n",
    "    countriesOnsetData.collect {\n",
    "        case m if m(\"country\") == country => m(\"date\")\n",
    "    }\n",
    "}"
   ]
  },
  {
   "cell_type": "code",
   "execution_count": 32,
   "metadata": {},
   "outputs": [
    {
     "data": {
      "text/plain": [
       "defined \u001b[32mfunction\u001b[39m \u001b[36mwriteStatsToCsv\u001b[39m"
      ]
     },
     "execution_count": 32,
     "metadata": {},
     "output_type": "execute_result"
    }
   ],
   "source": [
    "def writeStatsToCsv(country: String, stats: RtsDistributionStats, csvWriter: CSVWriter): Unit = {\n",
    "    val means_medians = stats.means.unzip._2 zip stats.medians.unzip._2\n",
    "    val hdpis = stats.hdpis_90.unzip._2 zip stats.hdpis_50.unzip._2\n",
    "    val xs = means_medians zip hdpis\n",
    "    val dates = datesForCountry(country)\n",
    "//     assert(xs.size == dates.size, s\"${xs.size} != ${dates.size}\")\n",
    "    (xs zip dates) foreach {\n",
    "        case (((mean, median),((low90,high90),(low50,high50))), date) => \n",
    "            csvWriter.writeRow(country :: date :: mean.toString :: median.toString :: low90.toString :: high90.toString \n",
    "                               :: low50.toString :: high50.toString :: Nil)\n",
    "    }\n",
    "}"
   ]
  },
  {
   "cell_type": "code",
   "execution_count": 33,
   "metadata": {
    "scrolled": true
   },
   "outputs": [
    {
     "data": {
      "text/plain": [
       "\u001b[36mcsvWriter\u001b[39m: \u001b[32mCSVWriter\u001b[39m = com.github.tototoshi.csv.CSVWriter@6c89e397"
      ]
     },
     "execution_count": 33,
     "metadata": {},
     "output_type": "execute_result"
    }
   ],
   "source": [
    "val csvWriter = CSVWriter.open(new File(\"data/rt-rainier.csv\"))"
   ]
  },
  {
   "cell_type": "code",
   "execution_count": 34,
   "metadata": {},
   "outputs": [],
   "source": [
    "csvWriter.writeRow(List(\"region\", \"date\", \"mean\", \"median\", \"lower_90\", \"upper_90\", \"lower_50\", \"upper_50\"))"
   ]
  },
  {
   "cell_type": "code",
   "execution_count": 35,
   "metadata": {},
   "outputs": [],
   "source": [
    "countryStats.toList.sortBy(_._1).foreach {\n",
    "    case (country, stats) => writeStatsToCsv(country, stats, csvWriter)\n",
    "}"
   ]
  },
  {
   "cell_type": "code",
   "execution_count": 36,
   "metadata": {},
   "outputs": [],
   "source": [
    "csvWriter.close()"
   ]
  },
  {
   "cell_type": "markdown",
   "metadata": {},
   "source": [
    "## Processing logs"
   ]
  },
  {
   "cell_type": "code",
   "execution_count": 37,
   "metadata": {},
   "outputs": [
    {
     "data": {
      "text/plain": [
       "\u001b[36mcsvData\u001b[39m: \u001b[32mList\u001b[39m[\u001b[32mMap\u001b[39m[\u001b[32mString\u001b[39m, \u001b[32mString\u001b[39m]] = \u001b[33mList\u001b[39m(\n",
       "  \u001b[33mMap\u001b[39m(\n",
       "    \u001b[32m\"country\"\u001b[39m -> \u001b[32m\"Austria\"\u001b[39m,\n",
       "    \u001b[32m\"idx\"\u001b[39m -> \u001b[32m\"0\"\u001b[39m,\n",
       "    \u001b[32m\"iteration\"\u001b[39m -> \u001b[32m\"0\"\u001b[39m,\n",
       "    \u001b[32m\"rhat\"\u001b[39m -> \u001b[32m\"1.3760891099625214\"\u001b[39m\n",
       "  ),\n",
       "  \u001b[33mMap\u001b[39m(\n",
       "    \u001b[32m\"country\"\u001b[39m -> \u001b[32m\"Austria\"\u001b[39m,\n",
       "    \u001b[32m\"idx\"\u001b[39m -> \u001b[32m\"0\"\u001b[39m,\n",
       "    \u001b[32m\"iteration\"\u001b[39m -> \u001b[32m\"1\"\u001b[39m,\n",
       "    \u001b[32m\"rhat\"\u001b[39m -> \u001b[32m\"1.7525944799637179\"\u001b[39m\n",
       "  ),\n",
       "  \u001b[33mMap\u001b[39m(\n",
       "    \u001b[32m\"country\"\u001b[39m -> \u001b[32m\"Austria\"\u001b[39m,\n",
       "    \u001b[32m\"idx\"\u001b[39m -> \u001b[32m\"0\"\u001b[39m,\n",
       "    \u001b[32m\"iteration\"\u001b[39m -> \u001b[32m\"2\"\u001b[39m,\n",
       "    \u001b[32m\"rhat\"\u001b[39m -> \u001b[32m\"1.2429269907194032\"\u001b[39m\n",
       "  ),\n",
       "  \u001b[33mMap\u001b[39m(\n",
       "    \u001b[32m\"country\"\u001b[39m -> \u001b[32m\"Austria\"\u001b[39m,\n",
       "    \u001b[32m\"idx\"\u001b[39m -> \u001b[32m\"1\"\u001b[39m,\n",
       "    \u001b[32m\"iteration\"\u001b[39m -> \u001b[32m\"0\"\u001b[39m,\n",
       "    \u001b[32m\"rhat\"\u001b[39m -> \u001b[32m\"1.0103774693977707\"\u001b[39m\n",
       "  ),\n",
       "  \u001b[33mMap\u001b[39m(\n",
       "    \u001b[32m\"country\"\u001b[39m -> \u001b[32m\"Austria\"\u001b[39m,\n",
       "    \u001b[32m\"idx\"\u001b[39m -> \u001b[32m\"2\"\u001b[39m,\n",
       "    \u001b[32m\"iteration\"\u001b[39m -> \u001b[32m\"0\"\u001b[39m,\n",
       "    \u001b[32m\"rhat\"\u001b[39m -> \u001b[32m\"1.0078874038429015\"\u001b[39m\n",
       "  ),\n",
       "  \u001b[33mMap\u001b[39m(\n",
       "    \u001b[32m\"country\"\u001b[39m -> \u001b[32m\"Austria\"\u001b[39m,\n",
       "    \u001b[32m\"idx\"\u001b[39m -> \u001b[32m\"3\"\u001b[39m,\n",
       "    \u001b[32m\"iteration\"\u001b[39m -> \u001b[32m\"0\"\u001b[39m,\n",
       "    \u001b[32m\"rhat\"\u001b[39m -> \u001b[32m\"1.0090668755526686\"\u001b[39m\n",
       "  ),\n",
       "  \u001b[33mMap\u001b[39m(\n",
       "    \u001b[32m\"country\"\u001b[39m -> \u001b[32m\"Austria\"\u001b[39m,\n",
       "..."
      ]
     },
     "execution_count": 37,
     "metadata": {},
     "output_type": "execute_result"
    }
   ],
   "source": [
    "val csvData = {\n",
    "    val csvReader = CSVReader.open(new File(\"data/rhats.csv\"))\n",
    "    val data = csvReader.allWithHeaders()\n",
    "    csvReader.close()\n",
    "    data\n",
    "}"
   ]
  },
  {
   "cell_type": "code",
   "execution_count": 38,
   "metadata": {},
   "outputs": [
    {
     "ename": "",
     "evalue": "",
     "output_type": "error",
     "traceback": [
      "\u001b[31mjava.util.NoSuchElementException: key not found: Austria\u001b[39m\n  scala.collection.MapLike.default(\u001b[32mMapLike.scala\u001b[39m:\u001b[32m235\u001b[39m)\n  scala.collection.MapLike.default$(\u001b[32mMapLike.scala\u001b[39m:\u001b[32m234\u001b[39m)\n  scala.collection.AbstractMap.default(\u001b[32mMap.scala\u001b[39m:\u001b[32m63\u001b[39m)\n  scala.collection.mutable.HashMap.apply(\u001b[32mHashMap.scala\u001b[39m:\u001b[32m69\u001b[39m)\n  ammonite.$sess.cmd37$Helper.writeCountryLogs(\u001b[32mcmd37.sc\u001b[39m:\u001b[32m4\u001b[39m)\n  ammonite.$sess.cmd37$Helper.$anonfun$res37_6$1(\u001b[32mcmd37.sc\u001b[39m:\u001b[32m19\u001b[39m)\n  ammonite.$sess.cmd37$Helper.$anonfun$res37_6$1$adapted(\u001b[32mcmd37.sc\u001b[39m:\u001b[32m19\u001b[39m)\n  scala.collection.immutable.List.foreach(\u001b[32mList.scala\u001b[39m:\u001b[32m392\u001b[39m)\n  ammonite.$sess.cmd37$Helper.<init>(\u001b[32mcmd37.sc\u001b[39m:\u001b[32m19\u001b[39m)\n  ammonite.$sess.cmd37$.<init>(\u001b[32mcmd37.sc\u001b[39m:\u001b[32m7\u001b[39m)\n  ammonite.$sess.cmd37$.<clinit>(\u001b[32mcmd37.sc\u001b[39m:\u001b[32m-1\u001b[39m)"
     ]
    }
   ],
   "source": [
    "def writeCountryLogs(writer: CSVWriter, country: String) = {\n",
    "    val countryData = csvData filter (_(\"country\") == country)\n",
    "    val countryMaxIdx = if (countryData.isEmpty) 0 else (countryData collect { case m => m(\"idx\").toInt}).max + 1\n",
    "    val additionalData = countryLogs(country).zipWithIndex.map {\n",
    "        case (value,i) => Map(\"country\" -> country, \"idx\" -> countryMaxIdx.toString, \n",
    "                              \"iteration\" -> i.toString, \"rhat\" -> value.toString)\n",
    "    }\n",
    "    val allData = countryData ++ additionalData\n",
    "    for(elem <- allData) {\n",
    "        writer.writeRow(country :: elem(\"idx\") :: elem(\"iteration\") :: elem(\"rhat\") :: Nil)\n",
    "    }\n",
    "}\n",
    "\n",
    "val countriesInCsv = (csvData collect { case m => m(\"country\")}).toSet\n",
    "val countriesInLogs = countryLogs.keys.toSet\n",
    "val allCountries = (countriesInCsv ++ countriesInLogs).toList.sorted\n",
    "val csvLogsWriter = CSVWriter.open(new File(\"data/rhats.csv\"))\n",
    "csvLogsWriter.writeRow(List(\"country\", \"idx\", \"iteration\", \"rhat\"))\n",
    "allCountries.foreach(writeCountryLogs(csvLogsWriter, _))\n",
    "csvLogsWriter.close()"
   ]
  },
  {
   "cell_type": "code",
   "execution_count": null,
   "metadata": {},
   "outputs": [],
   "source": []
  }
 ],
 "metadata": {
  "kernelspec": {
   "display_name": "Rainier (Scala 2.12)",
   "language": "scala",
   "name": "rainier"
  },
  "language_info": {
   "codemirror_mode": "text/x-scala",
   "file_extension": ".scala",
   "mimetype": "text/x-scala",
   "name": "scala",
   "nbconvert_exporter": "script",
   "version": "2.12.10"
  }
 },
 "nbformat": 4,
 "nbformat_minor": 2
}
